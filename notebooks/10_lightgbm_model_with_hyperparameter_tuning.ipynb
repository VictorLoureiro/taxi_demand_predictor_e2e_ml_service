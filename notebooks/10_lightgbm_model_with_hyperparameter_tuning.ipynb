{
 "cells": [
  {
   "cell_type": "code",
   "execution_count": 3,
   "metadata": {},
   "outputs": [
    {
     "data": {
      "text/html": [
       "<div>\n",
       "<style scoped>\n",
       "    .dataframe tbody tr th:only-of-type {\n",
       "        vertical-align: middle;\n",
       "    }\n",
       "\n",
       "    .dataframe tbody tr th {\n",
       "        vertical-align: top;\n",
       "    }\n",
       "\n",
       "    .dataframe thead th {\n",
       "        text-align: right;\n",
       "    }\n",
       "</style>\n",
       "<table border=\"1\" class=\"dataframe\">\n",
       "  <thead>\n",
       "    <tr style=\"text-align: right;\">\n",
       "      <th></th>\n",
       "      <th>rides_previous_672_hour</th>\n",
       "      <th>rides_previous_671_hour</th>\n",
       "      <th>rides_previous_670_hour</th>\n",
       "      <th>rides_previous_669_hour</th>\n",
       "      <th>rides_previous_668_hour</th>\n",
       "      <th>rides_previous_667_hour</th>\n",
       "      <th>rides_previous_666_hour</th>\n",
       "      <th>rides_previous_665_hour</th>\n",
       "      <th>rides_previous_664_hour</th>\n",
       "      <th>rides_previous_663_hour</th>\n",
       "      <th>...</th>\n",
       "      <th>rides_previous_7_hour</th>\n",
       "      <th>rides_previous_6_hour</th>\n",
       "      <th>rides_previous_5_hour</th>\n",
       "      <th>rides_previous_4_hour</th>\n",
       "      <th>rides_previous_3_hour</th>\n",
       "      <th>rides_previous_2_hour</th>\n",
       "      <th>rides_previous_1_hour</th>\n",
       "      <th>pickup_hour</th>\n",
       "      <th>pickup_location_id</th>\n",
       "      <th>target_rides_next_hour</th>\n",
       "    </tr>\n",
       "  </thead>\n",
       "  <tbody>\n",
       "    <tr>\n",
       "      <th>0</th>\n",
       "      <td>0.0</td>\n",
       "      <td>0.0</td>\n",
       "      <td>0.0</td>\n",
       "      <td>0.0</td>\n",
       "      <td>1.0</td>\n",
       "      <td>1.0</td>\n",
       "      <td>0.0</td>\n",
       "      <td>2.0</td>\n",
       "      <td>0.0</td>\n",
       "      <td>0.0</td>\n",
       "      <td>...</td>\n",
       "      <td>2.0</td>\n",
       "      <td>0.0</td>\n",
       "      <td>1.0</td>\n",
       "      <td>0.0</td>\n",
       "      <td>0.0</td>\n",
       "      <td>0.0</td>\n",
       "      <td>0.0</td>\n",
       "      <td>2022-01-29</td>\n",
       "      <td>1</td>\n",
       "      <td>0.0</td>\n",
       "    </tr>\n",
       "    <tr>\n",
       "      <th>1</th>\n",
       "      <td>0.0</td>\n",
       "      <td>0.0</td>\n",
       "      <td>0.0</td>\n",
       "      <td>0.0</td>\n",
       "      <td>0.0</td>\n",
       "      <td>4.0</td>\n",
       "      <td>1.0</td>\n",
       "      <td>2.0</td>\n",
       "      <td>1.0</td>\n",
       "      <td>2.0</td>\n",
       "      <td>...</td>\n",
       "      <td>0.0</td>\n",
       "      <td>0.0</td>\n",
       "      <td>0.0</td>\n",
       "      <td>0.0</td>\n",
       "      <td>1.0</td>\n",
       "      <td>0.0</td>\n",
       "      <td>0.0</td>\n",
       "      <td>2022-01-30</td>\n",
       "      <td>1</td>\n",
       "      <td>0.0</td>\n",
       "    </tr>\n",
       "    <tr>\n",
       "      <th>2</th>\n",
       "      <td>0.0</td>\n",
       "      <td>0.0</td>\n",
       "      <td>0.0</td>\n",
       "      <td>0.0</td>\n",
       "      <td>0.0</td>\n",
       "      <td>0.0</td>\n",
       "      <td>0.0</td>\n",
       "      <td>2.0</td>\n",
       "      <td>0.0</td>\n",
       "      <td>0.0</td>\n",
       "      <td>...</td>\n",
       "      <td>0.0</td>\n",
       "      <td>1.0</td>\n",
       "      <td>2.0</td>\n",
       "      <td>0.0</td>\n",
       "      <td>0.0</td>\n",
       "      <td>0.0</td>\n",
       "      <td>0.0</td>\n",
       "      <td>2022-01-31</td>\n",
       "      <td>1</td>\n",
       "      <td>0.0</td>\n",
       "    </tr>\n",
       "    <tr>\n",
       "      <th>3</th>\n",
       "      <td>0.0</td>\n",
       "      <td>0.0</td>\n",
       "      <td>0.0</td>\n",
       "      <td>0.0</td>\n",
       "      <td>0.0</td>\n",
       "      <td>0.0</td>\n",
       "      <td>0.0</td>\n",
       "      <td>0.0</td>\n",
       "      <td>1.0</td>\n",
       "      <td>1.0</td>\n",
       "      <td>...</td>\n",
       "      <td>2.0</td>\n",
       "      <td>1.0</td>\n",
       "      <td>0.0</td>\n",
       "      <td>1.0</td>\n",
       "      <td>1.0</td>\n",
       "      <td>0.0</td>\n",
       "      <td>0.0</td>\n",
       "      <td>2022-02-01</td>\n",
       "      <td>1</td>\n",
       "      <td>0.0</td>\n",
       "    </tr>\n",
       "    <tr>\n",
       "      <th>4</th>\n",
       "      <td>0.0</td>\n",
       "      <td>0.0</td>\n",
       "      <td>0.0</td>\n",
       "      <td>0.0</td>\n",
       "      <td>0.0</td>\n",
       "      <td>0.0</td>\n",
       "      <td>0.0</td>\n",
       "      <td>0.0</td>\n",
       "      <td>0.0</td>\n",
       "      <td>0.0</td>\n",
       "      <td>...</td>\n",
       "      <td>0.0</td>\n",
       "      <td>0.0</td>\n",
       "      <td>0.0</td>\n",
       "      <td>0.0</td>\n",
       "      <td>0.0</td>\n",
       "      <td>0.0</td>\n",
       "      <td>0.0</td>\n",
       "      <td>2022-02-02</td>\n",
       "      <td>1</td>\n",
       "      <td>0.0</td>\n",
       "    </tr>\n",
       "    <tr>\n",
       "      <th>...</th>\n",
       "      <td>...</td>\n",
       "      <td>...</td>\n",
       "      <td>...</td>\n",
       "      <td>...</td>\n",
       "      <td>...</td>\n",
       "      <td>...</td>\n",
       "      <td>...</td>\n",
       "      <td>...</td>\n",
       "      <td>...</td>\n",
       "      <td>...</td>\n",
       "      <td>...</td>\n",
       "      <td>...</td>\n",
       "      <td>...</td>\n",
       "      <td>...</td>\n",
       "      <td>...</td>\n",
       "      <td>...</td>\n",
       "      <td>...</td>\n",
       "      <td>...</td>\n",
       "      <td>...</td>\n",
       "      <td>...</td>\n",
       "      <td>...</td>\n",
       "    </tr>\n",
       "    <tr>\n",
       "      <th>81085</th>\n",
       "      <td>6.0</td>\n",
       "      <td>7.0</td>\n",
       "      <td>7.0</td>\n",
       "      <td>4.0</td>\n",
       "      <td>9.0</td>\n",
       "      <td>1.0</td>\n",
       "      <td>3.0</td>\n",
       "      <td>5.0</td>\n",
       "      <td>4.0</td>\n",
       "      <td>7.0</td>\n",
       "      <td>...</td>\n",
       "      <td>5.0</td>\n",
       "      <td>8.0</td>\n",
       "      <td>7.0</td>\n",
       "      <td>2.0</td>\n",
       "      <td>1.0</td>\n",
       "      <td>5.0</td>\n",
       "      <td>1.0</td>\n",
       "      <td>2022-11-26</td>\n",
       "      <td>265</td>\n",
       "      <td>2.0</td>\n",
       "    </tr>\n",
       "    <tr>\n",
       "      <th>81086</th>\n",
       "      <td>10.0</td>\n",
       "      <td>5.0</td>\n",
       "      <td>4.0</td>\n",
       "      <td>11.0</td>\n",
       "      <td>8.0</td>\n",
       "      <td>2.0</td>\n",
       "      <td>2.0</td>\n",
       "      <td>5.0</td>\n",
       "      <td>7.0</td>\n",
       "      <td>8.0</td>\n",
       "      <td>...</td>\n",
       "      <td>6.0</td>\n",
       "      <td>2.0</td>\n",
       "      <td>1.0</td>\n",
       "      <td>3.0</td>\n",
       "      <td>2.0</td>\n",
       "      <td>8.0</td>\n",
       "      <td>4.0</td>\n",
       "      <td>2022-11-27</td>\n",
       "      <td>265</td>\n",
       "      <td>3.0</td>\n",
       "    </tr>\n",
       "    <tr>\n",
       "      <th>81087</th>\n",
       "      <td>6.0</td>\n",
       "      <td>2.0</td>\n",
       "      <td>2.0</td>\n",
       "      <td>0.0</td>\n",
       "      <td>3.0</td>\n",
       "      <td>7.0</td>\n",
       "      <td>24.0</td>\n",
       "      <td>20.0</td>\n",
       "      <td>10.0</td>\n",
       "      <td>18.0</td>\n",
       "      <td>...</td>\n",
       "      <td>5.0</td>\n",
       "      <td>5.0</td>\n",
       "      <td>4.0</td>\n",
       "      <td>4.0</td>\n",
       "      <td>8.0</td>\n",
       "      <td>1.0</td>\n",
       "      <td>7.0</td>\n",
       "      <td>2022-11-28</td>\n",
       "      <td>265</td>\n",
       "      <td>10.0</td>\n",
       "    </tr>\n",
       "    <tr>\n",
       "      <th>81088</th>\n",
       "      <td>4.0</td>\n",
       "      <td>6.0</td>\n",
       "      <td>0.0</td>\n",
       "      <td>1.0</td>\n",
       "      <td>1.0</td>\n",
       "      <td>7.0</td>\n",
       "      <td>22.0</td>\n",
       "      <td>18.0</td>\n",
       "      <td>25.0</td>\n",
       "      <td>17.0</td>\n",
       "      <td>...</td>\n",
       "      <td>10.0</td>\n",
       "      <td>11.0</td>\n",
       "      <td>13.0</td>\n",
       "      <td>3.0</td>\n",
       "      <td>4.0</td>\n",
       "      <td>3.0</td>\n",
       "      <td>1.0</td>\n",
       "      <td>2022-11-29</td>\n",
       "      <td>265</td>\n",
       "      <td>3.0</td>\n",
       "    </tr>\n",
       "    <tr>\n",
       "      <th>81089</th>\n",
       "      <td>2.0</td>\n",
       "      <td>6.0</td>\n",
       "      <td>4.0</td>\n",
       "      <td>2.0</td>\n",
       "      <td>4.0</td>\n",
       "      <td>10.0</td>\n",
       "      <td>16.0</td>\n",
       "      <td>17.0</td>\n",
       "      <td>20.0</td>\n",
       "      <td>12.0</td>\n",
       "      <td>...</td>\n",
       "      <td>30.0</td>\n",
       "      <td>14.0</td>\n",
       "      <td>6.0</td>\n",
       "      <td>4.0</td>\n",
       "      <td>4.0</td>\n",
       "      <td>7.0</td>\n",
       "      <td>1.0</td>\n",
       "      <td>2022-11-30</td>\n",
       "      <td>265</td>\n",
       "      <td>6.0</td>\n",
       "    </tr>\n",
       "  </tbody>\n",
       "</table>\n",
       "<p>81090 rows × 675 columns</p>\n",
       "</div>"
      ],
      "text/plain": [
       "       rides_previous_672_hour  rides_previous_671_hour  \\\n",
       "0                          0.0                      0.0   \n",
       "1                          0.0                      0.0   \n",
       "2                          0.0                      0.0   \n",
       "3                          0.0                      0.0   \n",
       "4                          0.0                      0.0   \n",
       "...                        ...                      ...   \n",
       "81085                      6.0                      7.0   \n",
       "81086                     10.0                      5.0   \n",
       "81087                      6.0                      2.0   \n",
       "81088                      4.0                      6.0   \n",
       "81089                      2.0                      6.0   \n",
       "\n",
       "       rides_previous_670_hour  rides_previous_669_hour  \\\n",
       "0                          0.0                      0.0   \n",
       "1                          0.0                      0.0   \n",
       "2                          0.0                      0.0   \n",
       "3                          0.0                      0.0   \n",
       "4                          0.0                      0.0   \n",
       "...                        ...                      ...   \n",
       "81085                      7.0                      4.0   \n",
       "81086                      4.0                     11.0   \n",
       "81087                      2.0                      0.0   \n",
       "81088                      0.0                      1.0   \n",
       "81089                      4.0                      2.0   \n",
       "\n",
       "       rides_previous_668_hour  rides_previous_667_hour  \\\n",
       "0                          1.0                      1.0   \n",
       "1                          0.0                      4.0   \n",
       "2                          0.0                      0.0   \n",
       "3                          0.0                      0.0   \n",
       "4                          0.0                      0.0   \n",
       "...                        ...                      ...   \n",
       "81085                      9.0                      1.0   \n",
       "81086                      8.0                      2.0   \n",
       "81087                      3.0                      7.0   \n",
       "81088                      1.0                      7.0   \n",
       "81089                      4.0                     10.0   \n",
       "\n",
       "       rides_previous_666_hour  rides_previous_665_hour  \\\n",
       "0                          0.0                      2.0   \n",
       "1                          1.0                      2.0   \n",
       "2                          0.0                      2.0   \n",
       "3                          0.0                      0.0   \n",
       "4                          0.0                      0.0   \n",
       "...                        ...                      ...   \n",
       "81085                      3.0                      5.0   \n",
       "81086                      2.0                      5.0   \n",
       "81087                     24.0                     20.0   \n",
       "81088                     22.0                     18.0   \n",
       "81089                     16.0                     17.0   \n",
       "\n",
       "       rides_previous_664_hour  rides_previous_663_hour  ...  \\\n",
       "0                          0.0                      0.0  ...   \n",
       "1                          1.0                      2.0  ...   \n",
       "2                          0.0                      0.0  ...   \n",
       "3                          1.0                      1.0  ...   \n",
       "4                          0.0                      0.0  ...   \n",
       "...                        ...                      ...  ...   \n",
       "81085                      4.0                      7.0  ...   \n",
       "81086                      7.0                      8.0  ...   \n",
       "81087                     10.0                     18.0  ...   \n",
       "81088                     25.0                     17.0  ...   \n",
       "81089                     20.0                     12.0  ...   \n",
       "\n",
       "       rides_previous_7_hour  rides_previous_6_hour  rides_previous_5_hour  \\\n",
       "0                        2.0                    0.0                    1.0   \n",
       "1                        0.0                    0.0                    0.0   \n",
       "2                        0.0                    1.0                    2.0   \n",
       "3                        2.0                    1.0                    0.0   \n",
       "4                        0.0                    0.0                    0.0   \n",
       "...                      ...                    ...                    ...   \n",
       "81085                    5.0                    8.0                    7.0   \n",
       "81086                    6.0                    2.0                    1.0   \n",
       "81087                    5.0                    5.0                    4.0   \n",
       "81088                   10.0                   11.0                   13.0   \n",
       "81089                   30.0                   14.0                    6.0   \n",
       "\n",
       "       rides_previous_4_hour  rides_previous_3_hour  rides_previous_2_hour  \\\n",
       "0                        0.0                    0.0                    0.0   \n",
       "1                        0.0                    1.0                    0.0   \n",
       "2                        0.0                    0.0                    0.0   \n",
       "3                        1.0                    1.0                    0.0   \n",
       "4                        0.0                    0.0                    0.0   \n",
       "...                      ...                    ...                    ...   \n",
       "81085                    2.0                    1.0                    5.0   \n",
       "81086                    3.0                    2.0                    8.0   \n",
       "81087                    4.0                    8.0                    1.0   \n",
       "81088                    3.0                    4.0                    3.0   \n",
       "81089                    4.0                    4.0                    7.0   \n",
       "\n",
       "       rides_previous_1_hour  pickup_hour  pickup_location_id  \\\n",
       "0                        0.0   2022-01-29                   1   \n",
       "1                        0.0   2022-01-30                   1   \n",
       "2                        0.0   2022-01-31                   1   \n",
       "3                        0.0   2022-02-01                   1   \n",
       "4                        0.0   2022-02-02                   1   \n",
       "...                      ...          ...                 ...   \n",
       "81085                    1.0   2022-11-26                 265   \n",
       "81086                    4.0   2022-11-27                 265   \n",
       "81087                    7.0   2022-11-28                 265   \n",
       "81088                    1.0   2022-11-29                 265   \n",
       "81089                    1.0   2022-11-30                 265   \n",
       "\n",
       "       target_rides_next_hour  \n",
       "0                         0.0  \n",
       "1                         0.0  \n",
       "2                         0.0  \n",
       "3                         0.0  \n",
       "4                         0.0  \n",
       "...                       ...  \n",
       "81085                     2.0  \n",
       "81086                     3.0  \n",
       "81087                    10.0  \n",
       "81088                     3.0  \n",
       "81089                     6.0  \n",
       "\n",
       "[81090 rows x 675 columns]"
      ]
     },
     "execution_count": 3,
     "metadata": {},
     "output_type": "execute_result"
    }
   ],
   "source": [
    "import warnings\n",
    "warnings.filterwarnings(\"ignore\")\n",
    "import pandas as pd\n",
    "from src.paths import TRANSFORMED_DATA_DIR\n",
    "\n",
    "df = pd.read_parquet(TRANSFORMED_DATA_DIR / 'tabular_data.parquet')\n",
    "df"
   ]
  },
  {
   "cell_type": "code",
   "execution_count": 4,
   "metadata": {},
   "outputs": [
    {
     "name": "stdout",
     "output_type": "stream",
     "text": [
      "X_train.shape=(32595, 674)\n",
      "y_train.shape=(32595,)\n",
      "X_test.shape=(48495, 674)\n",
      "y_test.shape=(48495,)\n"
     ]
    }
   ],
   "source": [
    "from datetime import datetime\n",
    "from src.data_split import train_test_split\n",
    "\n",
    "X_train, y_train, X_test, y_test = train_test_split(\n",
    "    df,\n",
    "    cutoff_date=datetime(2022, 6, 1, 0, 0, 0),\n",
    "    target_column_name='target_rides_next_hour'\n",
    ")\n",
    "\n",
    "print(f'{X_train.shape=}')\n",
    "print(f'{y_train.shape=}')\n",
    "print(f'{X_test.shape=}')\n",
    "print(f'{y_test.shape=}')"
   ]
  },
  {
   "cell_type": "code",
   "execution_count": 5,
   "metadata": {},
   "outputs": [],
   "source": [
    "import numpy as np\n",
    "from sklearn.model_selection import KFold, TimeSeriesSplit\n",
    "from sklearn.pipeline import make_pipeline\n",
    "from sklearn.metrics import mean_absolute_error\n",
    "import optuna\n",
    "\n",
    "from src.model import get_pipeline\n",
    "\n",
    "def objective(trial: optuna.trial.Trial) -> float:\n",
    "    \"\"\"\n",
    "    Given a set of hyper-parameters, it trains a model and computes an average\n",
    "    validation error based on a TimeSeriesSplit\n",
    "    \"\"\"\n",
    "    # pick hyper-parameters\n",
    "    hyperparams = {\n",
    "        \"metric\": 'mae',\n",
    "        \"verbose\": -1,\n",
    "        \"num_leaves\": trial.suggest_int(\"num_leaves\", 2, 256),\n",
    "        \"feature_fraction\": trial.suggest_float(\"feature_fraction\", 0.2, 1.0),\n",
    "        \"bagging_fraction\": trial.suggest_float(\"bagging_fraction\", 0.2, 1.0),\n",
    "        \"min_child_samples\": trial.suggest_int(\"min_child_samples\", 3, 100),   \n",
    "    }\n",
    "       \n",
    "    tss = TimeSeriesSplit(n_splits=2)\n",
    "    scores = []\n",
    "    for train_index, val_index in tss.split(X_train):\n",
    "\n",
    "        # split data for training and validation\n",
    "        X_train_, X_val_ = X_train.iloc[train_index, :], X_train.iloc[val_index,:]\n",
    "        y_train_, y_val_ = y_train.iloc[train_index], y_train.iloc[val_index]\n",
    "        \n",
    "        # train the model\n",
    "        pipeline = get_pipeline(**hyperparams)\n",
    "        pipeline.fit(X_train_, y_train_)\n",
    "        \n",
    "        # evaluate the model\n",
    "        y_pred = pipeline.predict(X_val_)\n",
    "        mae = mean_absolute_error(y_val_, y_pred)\n",
    "\n",
    "        scores.append(mae)\n",
    "   \n",
    "    # Return the mean score\n",
    "    return np.array(scores).mean()"
   ]
  },
  {
   "cell_type": "code",
   "execution_count": 6,
   "metadata": {},
   "outputs": [
    {
     "name": "stderr",
     "output_type": "stream",
     "text": [
      "\u001b[32m[I 2023-02-26 19:04:23,365]\u001b[0m A new study created in memory with name: no-name-4400cc35-89b6-4d0a-90eb-c4dad7712f5e\u001b[0m\n"
     ]
    },
    {
     "name": "stdout",
     "output_type": "stream",
     "text": [
      "[LightGBM] [Warning] feature_fraction is set=0.8109926327233727, colsample_bytree=1.0 will be ignored. Current value: feature_fraction=0.8109926327233727\n",
      "[LightGBM] [Warning] bagging_fraction is set=0.38573231922061996, subsample=1.0 will be ignored. Current value: bagging_fraction=0.38573231922061996\n",
      "[LightGBM] [Warning] feature_fraction is set=0.8109926327233727, colsample_bytree=1.0 will be ignored. Current value: feature_fraction=0.8109926327233727\n",
      "[LightGBM] [Warning] bagging_fraction is set=0.38573231922061996, subsample=1.0 will be ignored. Current value: bagging_fraction=0.38573231922061996\n"
     ]
    },
    {
     "name": "stderr",
     "output_type": "stream",
     "text": [
      "\u001b[32m[I 2023-02-26 19:04:38,568]\u001b[0m Trial 0 finished with value: 3.4309356421306587 and parameters: {'num_leaves': 197, 'feature_fraction': 0.8109926327233727, 'bagging_fraction': 0.38573231922061996, 'min_child_samples': 33}. Best is trial 0 with value: 3.4309356421306587.\u001b[0m\n"
     ]
    },
    {
     "name": "stdout",
     "output_type": "stream",
     "text": [
      "[LightGBM] [Warning] feature_fraction is set=0.9805529319999866, colsample_bytree=1.0 will be ignored. Current value: feature_fraction=0.9805529319999866\n",
      "[LightGBM] [Warning] bagging_fraction is set=0.41008380050111504, subsample=1.0 will be ignored. Current value: bagging_fraction=0.41008380050111504\n",
      "[LightGBM] [Warning] feature_fraction is set=0.9805529319999866, colsample_bytree=1.0 will be ignored. Current value: feature_fraction=0.9805529319999866\n",
      "[LightGBM] [Warning] bagging_fraction is set=0.41008380050111504, subsample=1.0 will be ignored. Current value: bagging_fraction=0.41008380050111504\n"
     ]
    },
    {
     "name": "stderr",
     "output_type": "stream",
     "text": [
      "\u001b[32m[I 2023-02-26 19:04:53,054]\u001b[0m Trial 1 finished with value: 3.2296293804012617 and parameters: {'num_leaves': 204, 'feature_fraction': 0.9805529319999866, 'bagging_fraction': 0.41008380050111504, 'min_child_samples': 16}. Best is trial 1 with value: 3.2296293804012617.\u001b[0m\n"
     ]
    },
    {
     "name": "stdout",
     "output_type": "stream",
     "text": [
      "[LightGBM] [Warning] feature_fraction is set=0.7750234876968394, colsample_bytree=1.0 will be ignored. Current value: feature_fraction=0.7750234876968394\n",
      "[LightGBM] [Warning] bagging_fraction is set=0.3570739829008474, subsample=1.0 will be ignored. Current value: bagging_fraction=0.3570739829008474\n",
      "[LightGBM] [Warning] feature_fraction is set=0.7750234876968394, colsample_bytree=1.0 will be ignored. Current value: feature_fraction=0.7750234876968394\n",
      "[LightGBM] [Warning] bagging_fraction is set=0.3570739829008474, subsample=1.0 will be ignored. Current value: bagging_fraction=0.3570739829008474\n"
     ]
    },
    {
     "name": "stderr",
     "output_type": "stream",
     "text": [
      "\u001b[32m[I 2023-02-26 19:05:04,578]\u001b[0m Trial 2 finished with value: 3.3515425850327163 and parameters: {'num_leaves': 163, 'feature_fraction': 0.7750234876968394, 'bagging_fraction': 0.3570739829008474, 'min_child_samples': 6}. Best is trial 1 with value: 3.2296293804012617.\u001b[0m\n"
     ]
    },
    {
     "name": "stdout",
     "output_type": "stream",
     "text": [
      "[LightGBM] [Warning] feature_fraction is set=0.5162844543976608, colsample_bytree=1.0 will be ignored. Current value: feature_fraction=0.5162844543976608\n",
      "[LightGBM] [Warning] bagging_fraction is set=0.4995174126880668, subsample=1.0 will be ignored. Current value: bagging_fraction=0.4995174126880668\n",
      "[LightGBM] [Warning] feature_fraction is set=0.5162844543976608, colsample_bytree=1.0 will be ignored. Current value: feature_fraction=0.5162844543976608\n",
      "[LightGBM] [Warning] bagging_fraction is set=0.4995174126880668, subsample=1.0 will be ignored. Current value: bagging_fraction=0.4995174126880668\n"
     ]
    },
    {
     "name": "stderr",
     "output_type": "stream",
     "text": [
      "\u001b[32m[I 2023-02-26 19:05:08,887]\u001b[0m Trial 3 finished with value: 3.649730513497209 and parameters: {'num_leaves': 45, 'feature_fraction': 0.5162844543976608, 'bagging_fraction': 0.4995174126880668, 'min_child_samples': 89}. Best is trial 1 with value: 3.2296293804012617.\u001b[0m\n"
     ]
    },
    {
     "name": "stdout",
     "output_type": "stream",
     "text": [
      "[LightGBM] [Warning] feature_fraction is set=0.4520280535030409, colsample_bytree=1.0 will be ignored. Current value: feature_fraction=0.4520280535030409\n",
      "[LightGBM] [Warning] bagging_fraction is set=0.6082892446095596, subsample=1.0 will be ignored. Current value: bagging_fraction=0.6082892446095596\n",
      "[LightGBM] [Warning] feature_fraction is set=0.4520280535030409, colsample_bytree=1.0 will be ignored. Current value: feature_fraction=0.4520280535030409\n",
      "[LightGBM] [Warning] bagging_fraction is set=0.6082892446095596, subsample=1.0 will be ignored. Current value: bagging_fraction=0.6082892446095596\n"
     ]
    },
    {
     "name": "stderr",
     "output_type": "stream",
     "text": [
      "\u001b[32m[I 2023-02-26 19:05:13,363]\u001b[0m Trial 4 finished with value: 3.528208719677894 and parameters: {'num_leaves': 50, 'feature_fraction': 0.4520280535030409, 'bagging_fraction': 0.6082892446095596, 'min_child_samples': 73}. Best is trial 1 with value: 3.2296293804012617.\u001b[0m\n"
     ]
    },
    {
     "name": "stdout",
     "output_type": "stream",
     "text": [
      "best_params={'num_leaves': 204, 'feature_fraction': 0.9805529319999866, 'bagging_fraction': 0.41008380050111504, 'min_child_samples': 16}\n"
     ]
    }
   ],
   "source": [
    "study = optuna.create_study(direction=\"minimize\")\n",
    "study.optimize(objective, n_trials=5)\n",
    "best_params = study.best_trial.params\n",
    "print(f'{best_params=}')"
   ]
  },
  {
   "cell_type": "code",
   "execution_count": 7,
   "metadata": {},
   "outputs": [
    {
     "name": "stdout",
     "output_type": "stream",
     "text": [
      "[LightGBM] [Warning] feature_fraction is set=0.9805529319999866, colsample_bytree=1.0 will be ignored. Current value: feature_fraction=0.9805529319999866\n",
      "[LightGBM] [Warning] bagging_fraction is set=0.41008380050111504, subsample=1.0 will be ignored. Current value: bagging_fraction=0.41008380050111504\n",
      "test_mae=2.5065\n"
     ]
    }
   ],
   "source": [
    "pipeline = get_pipeline(**best_params)\n",
    "pipeline.fit(X_train, y_train)\n",
    "predictions = pipeline.predict(X_test)\n",
    "\n",
    "test_mae = mean_absolute_error(y_test, predictions)\n",
    "print(f'{test_mae=:.4f}')"
   ]
  },
  {
   "attachments": {},
   "cell_type": "markdown",
   "metadata": {},
   "source": [
    "On previous notebooks, we saw that **LightGBM** model returned a test_mae=2.5145 and a test_mae=2.5281 with feature engineering. So, hyperparameter tuning seems to improve our oirginal LightGBM model."
   ]
  },
  {
   "cell_type": "code",
   "execution_count": 8,
   "metadata": {},
   "outputs": [
    {
     "data": {
      "application/vnd.plotly.v1+json": {
       "config": {
        "plotlyServerURL": "https://plot.ly"
       },
       "data": [
        {
         "hovertemplate": "x=%{x}<br>y=%{y}<extra></extra>",
         "legendgroup": "",
         "line": {
          "color": "#636efa",
          "dash": "solid"
         },
         "marker": {
          "symbol": "circle"
         },
         "mode": "lines+markers",
         "name": "",
         "orientation": "v",
         "showlegend": false,
         "type": "scatter",
         "x": [
          "2022-06-24T00:00:00",
          "2022-06-24T01:00:00",
          "2022-06-24T02:00:00",
          "2022-06-24T03:00:00",
          "2022-06-24T04:00:00",
          "2022-06-24T05:00:00",
          "2022-06-24T06:00:00",
          "2022-06-24T07:00:00",
          "2022-06-24T08:00:00",
          "2022-06-24T09:00:00",
          "2022-06-24T10:00:00",
          "2022-06-24T11:00:00",
          "2022-06-24T12:00:00",
          "2022-06-24T13:00:00",
          "2022-06-24T14:00:00",
          "2022-06-24T15:00:00",
          "2022-06-24T16:00:00",
          "2022-06-24T17:00:00",
          "2022-06-24T18:00:00",
          "2022-06-24T19:00:00",
          "2022-06-24T20:00:00",
          "2022-06-24T21:00:00",
          "2022-06-24T22:00:00",
          "2022-06-24T23:00:00",
          "2022-06-25T00:00:00",
          "2022-06-25T01:00:00",
          "2022-06-25T02:00:00",
          "2022-06-25T03:00:00",
          "2022-06-25T04:00:00",
          "2022-06-25T05:00:00",
          "2022-06-25T06:00:00",
          "2022-06-25T07:00:00",
          "2022-06-25T08:00:00",
          "2022-06-25T09:00:00",
          "2022-06-25T10:00:00",
          "2022-06-25T11:00:00",
          "2022-06-25T12:00:00",
          "2022-06-25T13:00:00",
          "2022-06-25T14:00:00",
          "2022-06-25T15:00:00",
          "2022-06-25T16:00:00",
          "2022-06-25T17:00:00",
          "2022-06-25T18:00:00",
          "2022-06-25T19:00:00",
          "2022-06-25T20:00:00",
          "2022-06-25T21:00:00",
          "2022-06-25T22:00:00",
          "2022-06-25T23:00:00",
          "2022-06-26T00:00:00",
          "2022-06-26T01:00:00",
          "2022-06-26T02:00:00",
          "2022-06-26T03:00:00",
          "2022-06-26T04:00:00",
          "2022-06-26T05:00:00",
          "2022-06-26T06:00:00",
          "2022-06-26T07:00:00",
          "2022-06-26T08:00:00",
          "2022-06-26T09:00:00",
          "2022-06-26T10:00:00",
          "2022-06-26T11:00:00",
          "2022-06-26T12:00:00",
          "2022-06-26T13:00:00",
          "2022-06-26T14:00:00",
          "2022-06-26T15:00:00",
          "2022-06-26T16:00:00",
          "2022-06-26T17:00:00",
          "2022-06-26T18:00:00",
          "2022-06-26T19:00:00",
          "2022-06-26T20:00:00",
          "2022-06-26T21:00:00",
          "2022-06-26T22:00:00",
          "2022-06-26T23:00:00",
          "2022-06-27T00:00:00",
          "2022-06-27T01:00:00",
          "2022-06-27T02:00:00",
          "2022-06-27T03:00:00",
          "2022-06-27T04:00:00",
          "2022-06-27T05:00:00",
          "2022-06-27T06:00:00",
          "2022-06-27T07:00:00",
          "2022-06-27T08:00:00",
          "2022-06-27T09:00:00",
          "2022-06-27T10:00:00",
          "2022-06-27T11:00:00",
          "2022-06-27T12:00:00",
          "2022-06-27T13:00:00",
          "2022-06-27T14:00:00",
          "2022-06-27T15:00:00",
          "2022-06-27T16:00:00",
          "2022-06-27T17:00:00",
          "2022-06-27T18:00:00",
          "2022-06-27T19:00:00",
          "2022-06-27T20:00:00",
          "2022-06-27T21:00:00",
          "2022-06-27T22:00:00",
          "2022-06-27T23:00:00",
          "2022-06-28T00:00:00",
          "2022-06-28T01:00:00",
          "2022-06-28T02:00:00",
          "2022-06-28T03:00:00",
          "2022-06-28T04:00:00",
          "2022-06-28T05:00:00",
          "2022-06-28T06:00:00",
          "2022-06-28T07:00:00",
          "2022-06-28T08:00:00",
          "2022-06-28T09:00:00",
          "2022-06-28T10:00:00",
          "2022-06-28T11:00:00",
          "2022-06-28T12:00:00",
          "2022-06-28T13:00:00",
          "2022-06-28T14:00:00",
          "2022-06-28T15:00:00",
          "2022-06-28T16:00:00",
          "2022-06-28T17:00:00",
          "2022-06-28T18:00:00",
          "2022-06-28T19:00:00",
          "2022-06-28T20:00:00",
          "2022-06-28T21:00:00",
          "2022-06-28T22:00:00",
          "2022-06-28T23:00:00",
          "2022-06-29T00:00:00",
          "2022-06-29T01:00:00",
          "2022-06-29T02:00:00",
          "2022-06-29T03:00:00",
          "2022-06-29T04:00:00",
          "2022-06-29T05:00:00",
          "2022-06-29T06:00:00",
          "2022-06-29T07:00:00",
          "2022-06-29T08:00:00",
          "2022-06-29T09:00:00",
          "2022-06-29T10:00:00",
          "2022-06-29T11:00:00",
          "2022-06-29T12:00:00",
          "2022-06-29T13:00:00",
          "2022-06-29T14:00:00",
          "2022-06-29T15:00:00",
          "2022-06-29T16:00:00",
          "2022-06-29T17:00:00",
          "2022-06-29T18:00:00",
          "2022-06-29T19:00:00",
          "2022-06-29T20:00:00",
          "2022-06-29T21:00:00",
          "2022-06-29T22:00:00",
          "2022-06-29T23:00:00",
          "2022-06-30T00:00:00",
          "2022-06-30T01:00:00",
          "2022-06-30T02:00:00",
          "2022-06-30T03:00:00",
          "2022-06-30T04:00:00",
          "2022-06-30T05:00:00",
          "2022-06-30T06:00:00",
          "2022-06-30T07:00:00",
          "2022-06-30T08:00:00",
          "2022-06-30T09:00:00",
          "2022-06-30T10:00:00",
          "2022-06-30T11:00:00",
          "2022-06-30T12:00:00",
          "2022-06-30T13:00:00",
          "2022-06-30T14:00:00",
          "2022-06-30T15:00:00",
          "2022-06-30T16:00:00",
          "2022-06-30T17:00:00",
          "2022-06-30T18:00:00",
          "2022-06-30T19:00:00",
          "2022-06-30T20:00:00",
          "2022-06-30T21:00:00",
          "2022-06-30T22:00:00",
          "2022-06-30T23:00:00",
          "2022-07-01T00:00:00",
          "2022-07-01T01:00:00",
          "2022-07-01T02:00:00",
          "2022-07-01T03:00:00",
          "2022-07-01T04:00:00",
          "2022-07-01T05:00:00",
          "2022-07-01T06:00:00",
          "2022-07-01T07:00:00",
          "2022-07-01T08:00:00",
          "2022-07-01T09:00:00",
          "2022-07-01T10:00:00",
          "2022-07-01T11:00:00",
          "2022-07-01T12:00:00",
          "2022-07-01T13:00:00",
          "2022-07-01T14:00:00",
          "2022-07-01T15:00:00",
          "2022-07-01T16:00:00",
          "2022-07-01T17:00:00",
          "2022-07-01T18:00:00",
          "2022-07-01T19:00:00",
          "2022-07-01T20:00:00",
          "2022-07-01T21:00:00",
          "2022-07-01T22:00:00",
          "2022-07-01T23:00:00",
          "2022-07-02T00:00:00",
          "2022-07-02T01:00:00",
          "2022-07-02T02:00:00",
          "2022-07-02T03:00:00",
          "2022-07-02T04:00:00",
          "2022-07-02T05:00:00",
          "2022-07-02T06:00:00",
          "2022-07-02T07:00:00",
          "2022-07-02T08:00:00",
          "2022-07-02T09:00:00",
          "2022-07-02T10:00:00",
          "2022-07-02T11:00:00",
          "2022-07-02T12:00:00",
          "2022-07-02T13:00:00",
          "2022-07-02T14:00:00",
          "2022-07-02T15:00:00",
          "2022-07-02T16:00:00",
          "2022-07-02T17:00:00",
          "2022-07-02T18:00:00",
          "2022-07-02T19:00:00",
          "2022-07-02T20:00:00",
          "2022-07-02T21:00:00",
          "2022-07-02T22:00:00",
          "2022-07-02T23:00:00",
          "2022-07-03T00:00:00",
          "2022-07-03T01:00:00",
          "2022-07-03T02:00:00",
          "2022-07-03T03:00:00",
          "2022-07-03T04:00:00",
          "2022-07-03T05:00:00",
          "2022-07-03T06:00:00",
          "2022-07-03T07:00:00",
          "2022-07-03T08:00:00",
          "2022-07-03T09:00:00",
          "2022-07-03T10:00:00",
          "2022-07-03T11:00:00",
          "2022-07-03T12:00:00",
          "2022-07-03T13:00:00",
          "2022-07-03T14:00:00",
          "2022-07-03T15:00:00",
          "2022-07-03T16:00:00",
          "2022-07-03T17:00:00",
          "2022-07-03T18:00:00",
          "2022-07-03T19:00:00",
          "2022-07-03T20:00:00",
          "2022-07-03T21:00:00",
          "2022-07-03T22:00:00",
          "2022-07-03T23:00:00",
          "2022-07-04T00:00:00",
          "2022-07-04T01:00:00",
          "2022-07-04T02:00:00",
          "2022-07-04T03:00:00",
          "2022-07-04T04:00:00",
          "2022-07-04T05:00:00",
          "2022-07-04T06:00:00",
          "2022-07-04T07:00:00",
          "2022-07-04T08:00:00",
          "2022-07-04T09:00:00",
          "2022-07-04T10:00:00",
          "2022-07-04T11:00:00",
          "2022-07-04T12:00:00",
          "2022-07-04T13:00:00",
          "2022-07-04T14:00:00",
          "2022-07-04T15:00:00",
          "2022-07-04T16:00:00",
          "2022-07-04T17:00:00",
          "2022-07-04T18:00:00",
          "2022-07-04T19:00:00",
          "2022-07-04T20:00:00",
          "2022-07-04T21:00:00",
          "2022-07-04T22:00:00",
          "2022-07-04T23:00:00",
          "2022-07-05T00:00:00",
          "2022-07-05T01:00:00",
          "2022-07-05T02:00:00",
          "2022-07-05T03:00:00",
          "2022-07-05T04:00:00",
          "2022-07-05T05:00:00",
          "2022-07-05T06:00:00",
          "2022-07-05T07:00:00",
          "2022-07-05T08:00:00",
          "2022-07-05T09:00:00",
          "2022-07-05T10:00:00",
          "2022-07-05T11:00:00",
          "2022-07-05T12:00:00",
          "2022-07-05T13:00:00",
          "2022-07-05T14:00:00",
          "2022-07-05T15:00:00",
          "2022-07-05T16:00:00",
          "2022-07-05T17:00:00",
          "2022-07-05T18:00:00",
          "2022-07-05T19:00:00",
          "2022-07-05T20:00:00",
          "2022-07-05T21:00:00",
          "2022-07-05T22:00:00",
          "2022-07-05T23:00:00",
          "2022-07-06T00:00:00",
          "2022-07-06T01:00:00",
          "2022-07-06T02:00:00",
          "2022-07-06T03:00:00",
          "2022-07-06T04:00:00",
          "2022-07-06T05:00:00",
          "2022-07-06T06:00:00",
          "2022-07-06T07:00:00",
          "2022-07-06T08:00:00",
          "2022-07-06T09:00:00",
          "2022-07-06T10:00:00",
          "2022-07-06T11:00:00",
          "2022-07-06T12:00:00",
          "2022-07-06T13:00:00",
          "2022-07-06T14:00:00",
          "2022-07-06T15:00:00",
          "2022-07-06T16:00:00",
          "2022-07-06T17:00:00",
          "2022-07-06T18:00:00",
          "2022-07-06T19:00:00",
          "2022-07-06T20:00:00",
          "2022-07-06T21:00:00",
          "2022-07-06T22:00:00",
          "2022-07-06T23:00:00",
          "2022-07-07T00:00:00",
          "2022-07-07T01:00:00",
          "2022-07-07T02:00:00",
          "2022-07-07T03:00:00",
          "2022-07-07T04:00:00",
          "2022-07-07T05:00:00",
          "2022-07-07T06:00:00",
          "2022-07-07T07:00:00",
          "2022-07-07T08:00:00",
          "2022-07-07T09:00:00",
          "2022-07-07T10:00:00",
          "2022-07-07T11:00:00",
          "2022-07-07T12:00:00",
          "2022-07-07T13:00:00",
          "2022-07-07T14:00:00",
          "2022-07-07T15:00:00",
          "2022-07-07T16:00:00",
          "2022-07-07T17:00:00",
          "2022-07-07T18:00:00",
          "2022-07-07T19:00:00",
          "2022-07-07T20:00:00",
          "2022-07-07T21:00:00",
          "2022-07-07T22:00:00",
          "2022-07-07T23:00:00",
          "2022-07-08T00:00:00",
          "2022-07-08T01:00:00",
          "2022-07-08T02:00:00",
          "2022-07-08T03:00:00",
          "2022-07-08T04:00:00",
          "2022-07-08T05:00:00",
          "2022-07-08T06:00:00",
          "2022-07-08T07:00:00",
          "2022-07-08T08:00:00",
          "2022-07-08T09:00:00",
          "2022-07-08T10:00:00",
          "2022-07-08T11:00:00",
          "2022-07-08T12:00:00",
          "2022-07-08T13:00:00",
          "2022-07-08T14:00:00",
          "2022-07-08T15:00:00",
          "2022-07-08T16:00:00",
          "2022-07-08T17:00:00",
          "2022-07-08T18:00:00",
          "2022-07-08T19:00:00",
          "2022-07-08T20:00:00",
          "2022-07-08T21:00:00",
          "2022-07-08T22:00:00",
          "2022-07-08T23:00:00",
          "2022-07-09T00:00:00",
          "2022-07-09T01:00:00",
          "2022-07-09T02:00:00",
          "2022-07-09T03:00:00",
          "2022-07-09T04:00:00",
          "2022-07-09T05:00:00",
          "2022-07-09T06:00:00",
          "2022-07-09T07:00:00",
          "2022-07-09T08:00:00",
          "2022-07-09T09:00:00",
          "2022-07-09T10:00:00",
          "2022-07-09T11:00:00",
          "2022-07-09T12:00:00",
          "2022-07-09T13:00:00",
          "2022-07-09T14:00:00",
          "2022-07-09T15:00:00",
          "2022-07-09T16:00:00",
          "2022-07-09T17:00:00",
          "2022-07-09T18:00:00",
          "2022-07-09T19:00:00",
          "2022-07-09T20:00:00",
          "2022-07-09T21:00:00",
          "2022-07-09T22:00:00",
          "2022-07-09T23:00:00",
          "2022-07-10T00:00:00",
          "2022-07-10T01:00:00",
          "2022-07-10T02:00:00",
          "2022-07-10T03:00:00",
          "2022-07-10T04:00:00",
          "2022-07-10T05:00:00",
          "2022-07-10T06:00:00",
          "2022-07-10T07:00:00",
          "2022-07-10T08:00:00",
          "2022-07-10T09:00:00",
          "2022-07-10T10:00:00",
          "2022-07-10T11:00:00",
          "2022-07-10T12:00:00",
          "2022-07-10T13:00:00",
          "2022-07-10T14:00:00",
          "2022-07-10T15:00:00",
          "2022-07-10T16:00:00",
          "2022-07-10T17:00:00",
          "2022-07-10T18:00:00",
          "2022-07-10T19:00:00",
          "2022-07-10T20:00:00",
          "2022-07-10T21:00:00",
          "2022-07-10T22:00:00",
          "2022-07-10T23:00:00",
          "2022-07-11T00:00:00",
          "2022-07-11T01:00:00",
          "2022-07-11T02:00:00",
          "2022-07-11T03:00:00",
          "2022-07-11T04:00:00",
          "2022-07-11T05:00:00",
          "2022-07-11T06:00:00",
          "2022-07-11T07:00:00",
          "2022-07-11T08:00:00",
          "2022-07-11T09:00:00",
          "2022-07-11T10:00:00",
          "2022-07-11T11:00:00",
          "2022-07-11T12:00:00",
          "2022-07-11T13:00:00",
          "2022-07-11T14:00:00",
          "2022-07-11T15:00:00",
          "2022-07-11T16:00:00",
          "2022-07-11T17:00:00",
          "2022-07-11T18:00:00",
          "2022-07-11T19:00:00",
          "2022-07-11T20:00:00",
          "2022-07-11T21:00:00",
          "2022-07-11T22:00:00",
          "2022-07-11T23:00:00",
          "2022-07-12T00:00:00",
          "2022-07-12T01:00:00",
          "2022-07-12T02:00:00",
          "2022-07-12T03:00:00",
          "2022-07-12T04:00:00",
          "2022-07-12T05:00:00",
          "2022-07-12T06:00:00",
          "2022-07-12T07:00:00",
          "2022-07-12T08:00:00",
          "2022-07-12T09:00:00",
          "2022-07-12T10:00:00",
          "2022-07-12T11:00:00",
          "2022-07-12T12:00:00",
          "2022-07-12T13:00:00",
          "2022-07-12T14:00:00",
          "2022-07-12T15:00:00",
          "2022-07-12T16:00:00",
          "2022-07-12T17:00:00",
          "2022-07-12T18:00:00",
          "2022-07-12T19:00:00",
          "2022-07-12T20:00:00",
          "2022-07-12T21:00:00",
          "2022-07-12T22:00:00",
          "2022-07-12T23:00:00",
          "2022-07-13T00:00:00",
          "2022-07-13T01:00:00",
          "2022-07-13T02:00:00",
          "2022-07-13T03:00:00",
          "2022-07-13T04:00:00",
          "2022-07-13T05:00:00",
          "2022-07-13T06:00:00",
          "2022-07-13T07:00:00",
          "2022-07-13T08:00:00",
          "2022-07-13T09:00:00",
          "2022-07-13T10:00:00",
          "2022-07-13T11:00:00",
          "2022-07-13T12:00:00",
          "2022-07-13T13:00:00",
          "2022-07-13T14:00:00",
          "2022-07-13T15:00:00",
          "2022-07-13T16:00:00",
          "2022-07-13T17:00:00",
          "2022-07-13T18:00:00",
          "2022-07-13T19:00:00",
          "2022-07-13T20:00:00",
          "2022-07-13T21:00:00",
          "2022-07-13T22:00:00",
          "2022-07-13T23:00:00",
          "2022-07-14T00:00:00",
          "2022-07-14T01:00:00",
          "2022-07-14T02:00:00",
          "2022-07-14T03:00:00",
          "2022-07-14T04:00:00",
          "2022-07-14T05:00:00",
          "2022-07-14T06:00:00",
          "2022-07-14T07:00:00",
          "2022-07-14T08:00:00",
          "2022-07-14T09:00:00",
          "2022-07-14T10:00:00",
          "2022-07-14T11:00:00",
          "2022-07-14T12:00:00",
          "2022-07-14T13:00:00",
          "2022-07-14T14:00:00",
          "2022-07-14T15:00:00",
          "2022-07-14T16:00:00",
          "2022-07-14T17:00:00",
          "2022-07-14T18:00:00",
          "2022-07-14T19:00:00",
          "2022-07-14T20:00:00",
          "2022-07-14T21:00:00",
          "2022-07-14T22:00:00",
          "2022-07-14T23:00:00",
          "2022-07-15T00:00:00",
          "2022-07-15T01:00:00",
          "2022-07-15T02:00:00",
          "2022-07-15T03:00:00",
          "2022-07-15T04:00:00",
          "2022-07-15T05:00:00",
          "2022-07-15T06:00:00",
          "2022-07-15T07:00:00",
          "2022-07-15T08:00:00",
          "2022-07-15T09:00:00",
          "2022-07-15T10:00:00",
          "2022-07-15T11:00:00",
          "2022-07-15T12:00:00",
          "2022-07-15T13:00:00",
          "2022-07-15T14:00:00",
          "2022-07-15T15:00:00",
          "2022-07-15T16:00:00",
          "2022-07-15T17:00:00",
          "2022-07-15T18:00:00",
          "2022-07-15T19:00:00",
          "2022-07-15T20:00:00",
          "2022-07-15T21:00:00",
          "2022-07-15T22:00:00",
          "2022-07-15T23:00:00",
          "2022-07-16T00:00:00",
          "2022-07-16T01:00:00",
          "2022-07-16T02:00:00",
          "2022-07-16T03:00:00",
          "2022-07-16T04:00:00",
          "2022-07-16T05:00:00",
          "2022-07-16T06:00:00",
          "2022-07-16T07:00:00",
          "2022-07-16T08:00:00",
          "2022-07-16T09:00:00",
          "2022-07-16T10:00:00",
          "2022-07-16T11:00:00",
          "2022-07-16T12:00:00",
          "2022-07-16T13:00:00",
          "2022-07-16T14:00:00",
          "2022-07-16T15:00:00",
          "2022-07-16T16:00:00",
          "2022-07-16T17:00:00",
          "2022-07-16T18:00:00",
          "2022-07-16T19:00:00",
          "2022-07-16T20:00:00",
          "2022-07-16T21:00:00",
          "2022-07-16T22:00:00",
          "2022-07-16T23:00:00",
          "2022-07-17T00:00:00",
          "2022-07-17T01:00:00",
          "2022-07-17T02:00:00",
          "2022-07-17T03:00:00",
          "2022-07-17T04:00:00",
          "2022-07-17T05:00:00",
          "2022-07-17T06:00:00",
          "2022-07-17T07:00:00",
          "2022-07-17T08:00:00",
          "2022-07-17T09:00:00",
          "2022-07-17T10:00:00",
          "2022-07-17T11:00:00",
          "2022-07-17T12:00:00",
          "2022-07-17T13:00:00",
          "2022-07-17T14:00:00",
          "2022-07-17T15:00:00",
          "2022-07-17T16:00:00",
          "2022-07-17T17:00:00",
          "2022-07-17T18:00:00",
          "2022-07-17T19:00:00",
          "2022-07-17T20:00:00",
          "2022-07-17T21:00:00",
          "2022-07-17T22:00:00",
          "2022-07-17T23:00:00",
          "2022-07-18T00:00:00",
          "2022-07-18T01:00:00",
          "2022-07-18T02:00:00",
          "2022-07-18T03:00:00",
          "2022-07-18T04:00:00",
          "2022-07-18T05:00:00",
          "2022-07-18T06:00:00",
          "2022-07-18T07:00:00",
          "2022-07-18T08:00:00",
          "2022-07-18T09:00:00",
          "2022-07-18T10:00:00",
          "2022-07-18T11:00:00",
          "2022-07-18T12:00:00",
          "2022-07-18T13:00:00",
          "2022-07-18T14:00:00",
          "2022-07-18T15:00:00",
          "2022-07-18T16:00:00",
          "2022-07-18T17:00:00",
          "2022-07-18T18:00:00",
          "2022-07-18T19:00:00",
          "2022-07-18T20:00:00",
          "2022-07-18T21:00:00",
          "2022-07-18T22:00:00",
          "2022-07-18T23:00:00",
          "2022-07-19T00:00:00",
          "2022-07-19T01:00:00",
          "2022-07-19T02:00:00",
          "2022-07-19T03:00:00",
          "2022-07-19T04:00:00",
          "2022-07-19T05:00:00",
          "2022-07-19T06:00:00",
          "2022-07-19T07:00:00",
          "2022-07-19T08:00:00",
          "2022-07-19T09:00:00",
          "2022-07-19T10:00:00",
          "2022-07-19T11:00:00",
          "2022-07-19T12:00:00",
          "2022-07-19T13:00:00",
          "2022-07-19T14:00:00",
          "2022-07-19T15:00:00",
          "2022-07-19T16:00:00",
          "2022-07-19T17:00:00",
          "2022-07-19T18:00:00",
          "2022-07-19T19:00:00",
          "2022-07-19T20:00:00",
          "2022-07-19T21:00:00",
          "2022-07-19T22:00:00",
          "2022-07-19T23:00:00",
          "2022-07-20T00:00:00",
          "2022-07-20T01:00:00",
          "2022-07-20T02:00:00",
          "2022-07-20T03:00:00",
          "2022-07-20T04:00:00",
          "2022-07-20T05:00:00",
          "2022-07-20T06:00:00",
          "2022-07-20T07:00:00",
          "2022-07-20T08:00:00",
          "2022-07-20T09:00:00",
          "2022-07-20T10:00:00",
          "2022-07-20T11:00:00",
          "2022-07-20T12:00:00",
          "2022-07-20T13:00:00",
          "2022-07-20T14:00:00",
          "2022-07-20T15:00:00",
          "2022-07-20T16:00:00",
          "2022-07-20T17:00:00",
          "2022-07-20T18:00:00",
          "2022-07-20T19:00:00",
          "2022-07-20T20:00:00",
          "2022-07-20T21:00:00",
          "2022-07-20T22:00:00",
          "2022-07-20T23:00:00",
          "2022-07-21T00:00:00",
          "2022-07-21T01:00:00",
          "2022-07-21T02:00:00",
          "2022-07-21T03:00:00",
          "2022-07-21T04:00:00",
          "2022-07-21T05:00:00",
          "2022-07-21T06:00:00",
          "2022-07-21T07:00:00",
          "2022-07-21T08:00:00",
          "2022-07-21T09:00:00",
          "2022-07-21T10:00:00",
          "2022-07-21T11:00:00",
          "2022-07-21T12:00:00",
          "2022-07-21T13:00:00",
          "2022-07-21T14:00:00",
          "2022-07-21T15:00:00",
          "2022-07-21T16:00:00",
          "2022-07-21T17:00:00",
          "2022-07-21T18:00:00",
          "2022-07-21T19:00:00",
          "2022-07-21T20:00:00",
          "2022-07-21T21:00:00",
          "2022-07-21T22:00:00",
          "2022-07-21T23:00:00",
          "2022-07-22T00:00:00"
         ],
         "xaxis": "x",
         "y": [
          3,
          0,
          0,
          0,
          0,
          1,
          2,
          1,
          1,
          3,
          0,
          3,
          3,
          1,
          0,
          2,
          0,
          0,
          0,
          2,
          0,
          0,
          1,
          1,
          2,
          1,
          2,
          1,
          1,
          0,
          2,
          1,
          0,
          0,
          0,
          1,
          2,
          2,
          2,
          0,
          0,
          0,
          0,
          2,
          1,
          1,
          0,
          0,
          0,
          2,
          2,
          3,
          2,
          1,
          0,
          0,
          1,
          3,
          0,
          1,
          0,
          3,
          1,
          2,
          0,
          0,
          1,
          0,
          0,
          1,
          2,
          0,
          0,
          0,
          0,
          0,
          1,
          0,
          0,
          1,
          2,
          2,
          0,
          1,
          1,
          0,
          0,
          0,
          2,
          0,
          0,
          1,
          1,
          0,
          0,
          1,
          0,
          0,
          0,
          0,
          0,
          0,
          0,
          1,
          0,
          2,
          1,
          1,
          0,
          0,
          0,
          1,
          1,
          0,
          1,
          0,
          1,
          1,
          2,
          1,
          1,
          0,
          1,
          0,
          0,
          0,
          1,
          0,
          0,
          1,
          0,
          0,
          1,
          0,
          2,
          0,
          0,
          0,
          1,
          0,
          0,
          0,
          0,
          2,
          1,
          0,
          0,
          0,
          0,
          1,
          1,
          3,
          0,
          1,
          1,
          0,
          0,
          0,
          1,
          0,
          0,
          0,
          0,
          0,
          0,
          0,
          0,
          0,
          0,
          0,
          1,
          0,
          1,
          1,
          1,
          1,
          0,
          1,
          0,
          2,
          1,
          2,
          0,
          0,
          1,
          1,
          0,
          0,
          0,
          0,
          0,
          0,
          0,
          0,
          1,
          1,
          1,
          1,
          0,
          0,
          0,
          4,
          0,
          0,
          0,
          2,
          1,
          1,
          1,
          0,
          1,
          0,
          0,
          1,
          0,
          0,
          0,
          1,
          0,
          1,
          4,
          1,
          1,
          0,
          3,
          0,
          0,
          1,
          1,
          0,
          1,
          0,
          1,
          0,
          0,
          0,
          0,
          0,
          1,
          1,
          1,
          0,
          0,
          1,
          0,
          0,
          0,
          1,
          1,
          0,
          1,
          0,
          2,
          2,
          0,
          1,
          2,
          1,
          1,
          0,
          1,
          0,
          1,
          1,
          2,
          1,
          0,
          0,
          0,
          0,
          1,
          0,
          1,
          0,
          1,
          1,
          0,
          1,
          0,
          2,
          1,
          1,
          2,
          0,
          0,
          0,
          0,
          1,
          0,
          0,
          1,
          1,
          0,
          1,
          0,
          1,
          1,
          0,
          1,
          0,
          0,
          0,
          0,
          0,
          0,
          1,
          0,
          0,
          0,
          0,
          0,
          3,
          0,
          0,
          0,
          0,
          1,
          0,
          0,
          0,
          0,
          1,
          0,
          0,
          0,
          0,
          1,
          0,
          0,
          0,
          0,
          0,
          0,
          2,
          1,
          2,
          0,
          0,
          0,
          1,
          0,
          2,
          0,
          1,
          0,
          0,
          2,
          0,
          0,
          0,
          0,
          0,
          2,
          1,
          0,
          0,
          2,
          0,
          3,
          1,
          0,
          1,
          1,
          0,
          1,
          0,
          0,
          0,
          2,
          0,
          1,
          0,
          0,
          0,
          0,
          1,
          2,
          1,
          2,
          1,
          2,
          0,
          1,
          1,
          2,
          3,
          0,
          1,
          0,
          0,
          0,
          0,
          0,
          0,
          1,
          1,
          0,
          1,
          2,
          1,
          1,
          0,
          0,
          0,
          0,
          0,
          0,
          0,
          0,
          0,
          0,
          0,
          1,
          0,
          0,
          1,
          1,
          1,
          0,
          0,
          0,
          1,
          2,
          0,
          0,
          0,
          0,
          1,
          0,
          0,
          0,
          2,
          0,
          0,
          0,
          0,
          0,
          0,
          0,
          0,
          0,
          0,
          0,
          1,
          0,
          0,
          1,
          0,
          0,
          0,
          0,
          0,
          0,
          2,
          0,
          1,
          0,
          0,
          0,
          0,
          1,
          0,
          0,
          0,
          0,
          0,
          1,
          1,
          1,
          1,
          0,
          0,
          1,
          1,
          1,
          0,
          1,
          0,
          0,
          0,
          0,
          0,
          0,
          0,
          0,
          0,
          1,
          1,
          1,
          4,
          0,
          0,
          0,
          0,
          0,
          0,
          0,
          0,
          0,
          1,
          0,
          0,
          0,
          2,
          1,
          0,
          1,
          0,
          0,
          1,
          0,
          1,
          0,
          2,
          0,
          0,
          0,
          1,
          0,
          1,
          1,
          0,
          0,
          0,
          1,
          0,
          0,
          0,
          0,
          0,
          2,
          1,
          0,
          0,
          0,
          0,
          0,
          1,
          0,
          1,
          1,
          3,
          0,
          0,
          0,
          0,
          1,
          0,
          0,
          0,
          0,
          1,
          0,
          2,
          3,
          0,
          1,
          0,
          0,
          0,
          0,
          0,
          0,
          2,
          0,
          0,
          0,
          0,
          0,
          1,
          0,
          1,
          1,
          0,
          0,
          0,
          0,
          0,
          0,
          0,
          0,
          1,
          0,
          3,
          2,
          2,
          2,
          0,
          0,
          0,
          2,
          0,
          1,
          1,
          1,
          0,
          1,
          1,
          0,
          1,
          0,
          0,
          0,
          0,
          0,
          0,
          0,
          0,
          7,
          7,
          1,
          1,
          0,
          0,
          1,
          1,
          1,
          0,
          1,
          0,
          0,
          0,
          0,
          0,
          1,
          0,
          0,
          0,
          0,
          1,
          0,
          0,
          0,
          1,
          1,
          0,
          0,
          0,
          1,
          1,
          0,
          2,
          0,
          0,
          0,
          0,
          1,
          0,
          1,
          0,
          0,
          0,
          0,
          1,
          1,
          1,
          0,
          1,
          0,
          0,
          0,
          1,
          1,
          0,
          1,
          0,
          0,
          1,
          0,
          0,
          1,
          0,
          0
         ],
         "yaxis": "y"
        },
        {
         "line": {
          "color": "green"
         },
         "marker": {
          "size": 10
         },
         "mode": "markers",
         "name": "actual value",
         "type": "scatter",
         "x": [
          "2022-07-22T00:00:00"
         ],
         "y": [
          0
         ]
        },
        {
         "line": {
          "color": "red"
         },
         "marker": {
          "size": 15,
          "symbol": "x"
         },
         "mode": "markers",
         "name": "prediction",
         "type": "scatter",
         "x": [
          "2022-07-22T00:00:00"
         ],
         "y": [
          0.479547350930795
         ]
        }
       ],
       "layout": {
        "legend": {
         "tracegroupgap": 0
        },
        "template": {
         "data": {
          "bar": [
           {
            "error_x": {
             "color": "#f2f5fa"
            },
            "error_y": {
             "color": "#f2f5fa"
            },
            "marker": {
             "line": {
              "color": "rgb(17,17,17)",
              "width": 0.5
             },
             "pattern": {
              "fillmode": "overlay",
              "size": 10,
              "solidity": 0.2
             }
            },
            "type": "bar"
           }
          ],
          "barpolar": [
           {
            "marker": {
             "line": {
              "color": "rgb(17,17,17)",
              "width": 0.5
             },
             "pattern": {
              "fillmode": "overlay",
              "size": 10,
              "solidity": 0.2
             }
            },
            "type": "barpolar"
           }
          ],
          "carpet": [
           {
            "aaxis": {
             "endlinecolor": "#A2B1C6",
             "gridcolor": "#506784",
             "linecolor": "#506784",
             "minorgridcolor": "#506784",
             "startlinecolor": "#A2B1C6"
            },
            "baxis": {
             "endlinecolor": "#A2B1C6",
             "gridcolor": "#506784",
             "linecolor": "#506784",
             "minorgridcolor": "#506784",
             "startlinecolor": "#A2B1C6"
            },
            "type": "carpet"
           }
          ],
          "choropleth": [
           {
            "colorbar": {
             "outlinewidth": 0,
             "ticks": ""
            },
            "type": "choropleth"
           }
          ],
          "contour": [
           {
            "colorbar": {
             "outlinewidth": 0,
             "ticks": ""
            },
            "colorscale": [
             [
              0,
              "#0d0887"
             ],
             [
              0.1111111111111111,
              "#46039f"
             ],
             [
              0.2222222222222222,
              "#7201a8"
             ],
             [
              0.3333333333333333,
              "#9c179e"
             ],
             [
              0.4444444444444444,
              "#bd3786"
             ],
             [
              0.5555555555555556,
              "#d8576b"
             ],
             [
              0.6666666666666666,
              "#ed7953"
             ],
             [
              0.7777777777777778,
              "#fb9f3a"
             ],
             [
              0.8888888888888888,
              "#fdca26"
             ],
             [
              1,
              "#f0f921"
             ]
            ],
            "type": "contour"
           }
          ],
          "contourcarpet": [
           {
            "colorbar": {
             "outlinewidth": 0,
             "ticks": ""
            },
            "type": "contourcarpet"
           }
          ],
          "heatmap": [
           {
            "colorbar": {
             "outlinewidth": 0,
             "ticks": ""
            },
            "colorscale": [
             [
              0,
              "#0d0887"
             ],
             [
              0.1111111111111111,
              "#46039f"
             ],
             [
              0.2222222222222222,
              "#7201a8"
             ],
             [
              0.3333333333333333,
              "#9c179e"
             ],
             [
              0.4444444444444444,
              "#bd3786"
             ],
             [
              0.5555555555555556,
              "#d8576b"
             ],
             [
              0.6666666666666666,
              "#ed7953"
             ],
             [
              0.7777777777777778,
              "#fb9f3a"
             ],
             [
              0.8888888888888888,
              "#fdca26"
             ],
             [
              1,
              "#f0f921"
             ]
            ],
            "type": "heatmap"
           }
          ],
          "heatmapgl": [
           {
            "colorbar": {
             "outlinewidth": 0,
             "ticks": ""
            },
            "colorscale": [
             [
              0,
              "#0d0887"
             ],
             [
              0.1111111111111111,
              "#46039f"
             ],
             [
              0.2222222222222222,
              "#7201a8"
             ],
             [
              0.3333333333333333,
              "#9c179e"
             ],
             [
              0.4444444444444444,
              "#bd3786"
             ],
             [
              0.5555555555555556,
              "#d8576b"
             ],
             [
              0.6666666666666666,
              "#ed7953"
             ],
             [
              0.7777777777777778,
              "#fb9f3a"
             ],
             [
              0.8888888888888888,
              "#fdca26"
             ],
             [
              1,
              "#f0f921"
             ]
            ],
            "type": "heatmapgl"
           }
          ],
          "histogram": [
           {
            "marker": {
             "pattern": {
              "fillmode": "overlay",
              "size": 10,
              "solidity": 0.2
             }
            },
            "type": "histogram"
           }
          ],
          "histogram2d": [
           {
            "colorbar": {
             "outlinewidth": 0,
             "ticks": ""
            },
            "colorscale": [
             [
              0,
              "#0d0887"
             ],
             [
              0.1111111111111111,
              "#46039f"
             ],
             [
              0.2222222222222222,
              "#7201a8"
             ],
             [
              0.3333333333333333,
              "#9c179e"
             ],
             [
              0.4444444444444444,
              "#bd3786"
             ],
             [
              0.5555555555555556,
              "#d8576b"
             ],
             [
              0.6666666666666666,
              "#ed7953"
             ],
             [
              0.7777777777777778,
              "#fb9f3a"
             ],
             [
              0.8888888888888888,
              "#fdca26"
             ],
             [
              1,
              "#f0f921"
             ]
            ],
            "type": "histogram2d"
           }
          ],
          "histogram2dcontour": [
           {
            "colorbar": {
             "outlinewidth": 0,
             "ticks": ""
            },
            "colorscale": [
             [
              0,
              "#0d0887"
             ],
             [
              0.1111111111111111,
              "#46039f"
             ],
             [
              0.2222222222222222,
              "#7201a8"
             ],
             [
              0.3333333333333333,
              "#9c179e"
             ],
             [
              0.4444444444444444,
              "#bd3786"
             ],
             [
              0.5555555555555556,
              "#d8576b"
             ],
             [
              0.6666666666666666,
              "#ed7953"
             ],
             [
              0.7777777777777778,
              "#fb9f3a"
             ],
             [
              0.8888888888888888,
              "#fdca26"
             ],
             [
              1,
              "#f0f921"
             ]
            ],
            "type": "histogram2dcontour"
           }
          ],
          "mesh3d": [
           {
            "colorbar": {
             "outlinewidth": 0,
             "ticks": ""
            },
            "type": "mesh3d"
           }
          ],
          "parcoords": [
           {
            "line": {
             "colorbar": {
              "outlinewidth": 0,
              "ticks": ""
             }
            },
            "type": "parcoords"
           }
          ],
          "pie": [
           {
            "automargin": true,
            "type": "pie"
           }
          ],
          "scatter": [
           {
            "marker": {
             "line": {
              "color": "#283442"
             }
            },
            "type": "scatter"
           }
          ],
          "scatter3d": [
           {
            "line": {
             "colorbar": {
              "outlinewidth": 0,
              "ticks": ""
             }
            },
            "marker": {
             "colorbar": {
              "outlinewidth": 0,
              "ticks": ""
             }
            },
            "type": "scatter3d"
           }
          ],
          "scattercarpet": [
           {
            "marker": {
             "colorbar": {
              "outlinewidth": 0,
              "ticks": ""
             }
            },
            "type": "scattercarpet"
           }
          ],
          "scattergeo": [
           {
            "marker": {
             "colorbar": {
              "outlinewidth": 0,
              "ticks": ""
             }
            },
            "type": "scattergeo"
           }
          ],
          "scattergl": [
           {
            "marker": {
             "line": {
              "color": "#283442"
             }
            },
            "type": "scattergl"
           }
          ],
          "scattermapbox": [
           {
            "marker": {
             "colorbar": {
              "outlinewidth": 0,
              "ticks": ""
             }
            },
            "type": "scattermapbox"
           }
          ],
          "scatterpolar": [
           {
            "marker": {
             "colorbar": {
              "outlinewidth": 0,
              "ticks": ""
             }
            },
            "type": "scatterpolar"
           }
          ],
          "scatterpolargl": [
           {
            "marker": {
             "colorbar": {
              "outlinewidth": 0,
              "ticks": ""
             }
            },
            "type": "scatterpolargl"
           }
          ],
          "scatterternary": [
           {
            "marker": {
             "colorbar": {
              "outlinewidth": 0,
              "ticks": ""
             }
            },
            "type": "scatterternary"
           }
          ],
          "surface": [
           {
            "colorbar": {
             "outlinewidth": 0,
             "ticks": ""
            },
            "colorscale": [
             [
              0,
              "#0d0887"
             ],
             [
              0.1111111111111111,
              "#46039f"
             ],
             [
              0.2222222222222222,
              "#7201a8"
             ],
             [
              0.3333333333333333,
              "#9c179e"
             ],
             [
              0.4444444444444444,
              "#bd3786"
             ],
             [
              0.5555555555555556,
              "#d8576b"
             ],
             [
              0.6666666666666666,
              "#ed7953"
             ],
             [
              0.7777777777777778,
              "#fb9f3a"
             ],
             [
              0.8888888888888888,
              "#fdca26"
             ],
             [
              1,
              "#f0f921"
             ]
            ],
            "type": "surface"
           }
          ],
          "table": [
           {
            "cells": {
             "fill": {
              "color": "#506784"
             },
             "line": {
              "color": "rgb(17,17,17)"
             }
            },
            "header": {
             "fill": {
              "color": "#2a3f5f"
             },
             "line": {
              "color": "rgb(17,17,17)"
             }
            },
            "type": "table"
           }
          ]
         },
         "layout": {
          "annotationdefaults": {
           "arrowcolor": "#f2f5fa",
           "arrowhead": 0,
           "arrowwidth": 1
          },
          "autotypenumbers": "strict",
          "coloraxis": {
           "colorbar": {
            "outlinewidth": 0,
            "ticks": ""
           }
          },
          "colorscale": {
           "diverging": [
            [
             0,
             "#8e0152"
            ],
            [
             0.1,
             "#c51b7d"
            ],
            [
             0.2,
             "#de77ae"
            ],
            [
             0.3,
             "#f1b6da"
            ],
            [
             0.4,
             "#fde0ef"
            ],
            [
             0.5,
             "#f7f7f7"
            ],
            [
             0.6,
             "#e6f5d0"
            ],
            [
             0.7,
             "#b8e186"
            ],
            [
             0.8,
             "#7fbc41"
            ],
            [
             0.9,
             "#4d9221"
            ],
            [
             1,
             "#276419"
            ]
           ],
           "sequential": [
            [
             0,
             "#0d0887"
            ],
            [
             0.1111111111111111,
             "#46039f"
            ],
            [
             0.2222222222222222,
             "#7201a8"
            ],
            [
             0.3333333333333333,
             "#9c179e"
            ],
            [
             0.4444444444444444,
             "#bd3786"
            ],
            [
             0.5555555555555556,
             "#d8576b"
            ],
            [
             0.6666666666666666,
             "#ed7953"
            ],
            [
             0.7777777777777778,
             "#fb9f3a"
            ],
            [
             0.8888888888888888,
             "#fdca26"
            ],
            [
             1,
             "#f0f921"
            ]
           ],
           "sequentialminus": [
            [
             0,
             "#0d0887"
            ],
            [
             0.1111111111111111,
             "#46039f"
            ],
            [
             0.2222222222222222,
             "#7201a8"
            ],
            [
             0.3333333333333333,
             "#9c179e"
            ],
            [
             0.4444444444444444,
             "#bd3786"
            ],
            [
             0.5555555555555556,
             "#d8576b"
            ],
            [
             0.6666666666666666,
             "#ed7953"
            ],
            [
             0.7777777777777778,
             "#fb9f3a"
            ],
            [
             0.8888888888888888,
             "#fdca26"
            ],
            [
             1,
             "#f0f921"
            ]
           ]
          },
          "colorway": [
           "#636efa",
           "#EF553B",
           "#00cc96",
           "#ab63fa",
           "#FFA15A",
           "#19d3f3",
           "#FF6692",
           "#B6E880",
           "#FF97FF",
           "#FECB52"
          ],
          "font": {
           "color": "#f2f5fa"
          },
          "geo": {
           "bgcolor": "rgb(17,17,17)",
           "lakecolor": "rgb(17,17,17)",
           "landcolor": "rgb(17,17,17)",
           "showlakes": true,
           "showland": true,
           "subunitcolor": "#506784"
          },
          "hoverlabel": {
           "align": "left"
          },
          "hovermode": "closest",
          "mapbox": {
           "style": "dark"
          },
          "paper_bgcolor": "rgb(17,17,17)",
          "plot_bgcolor": "rgb(17,17,17)",
          "polar": {
           "angularaxis": {
            "gridcolor": "#506784",
            "linecolor": "#506784",
            "ticks": ""
           },
           "bgcolor": "rgb(17,17,17)",
           "radialaxis": {
            "gridcolor": "#506784",
            "linecolor": "#506784",
            "ticks": ""
           }
          },
          "scene": {
           "xaxis": {
            "backgroundcolor": "rgb(17,17,17)",
            "gridcolor": "#506784",
            "gridwidth": 2,
            "linecolor": "#506784",
            "showbackground": true,
            "ticks": "",
            "zerolinecolor": "#C8D4E3"
           },
           "yaxis": {
            "backgroundcolor": "rgb(17,17,17)",
            "gridcolor": "#506784",
            "gridwidth": 2,
            "linecolor": "#506784",
            "showbackground": true,
            "ticks": "",
            "zerolinecolor": "#C8D4E3"
           },
           "zaxis": {
            "backgroundcolor": "rgb(17,17,17)",
            "gridcolor": "#506784",
            "gridwidth": 2,
            "linecolor": "#506784",
            "showbackground": true,
            "ticks": "",
            "zerolinecolor": "#C8D4E3"
           }
          },
          "shapedefaults": {
           "line": {
            "color": "#f2f5fa"
           }
          },
          "sliderdefaults": {
           "bgcolor": "#C8D4E3",
           "bordercolor": "rgb(17,17,17)",
           "borderwidth": 1,
           "tickwidth": 0
          },
          "ternary": {
           "aaxis": {
            "gridcolor": "#506784",
            "linecolor": "#506784",
            "ticks": ""
           },
           "baxis": {
            "gridcolor": "#506784",
            "linecolor": "#506784",
            "ticks": ""
           },
           "bgcolor": "rgb(17,17,17)",
           "caxis": {
            "gridcolor": "#506784",
            "linecolor": "#506784",
            "ticks": ""
           }
          },
          "title": {
           "x": 0.05
          },
          "updatemenudefaults": {
           "bgcolor": "#506784",
           "borderwidth": 0
          },
          "xaxis": {
           "automargin": true,
           "gridcolor": "#283442",
           "linecolor": "#506784",
           "ticks": "",
           "title": {
            "standoff": 15
           },
           "zerolinecolor": "#283442",
           "zerolinewidth": 2
          },
          "yaxis": {
           "automargin": true,
           "gridcolor": "#283442",
           "linecolor": "#506784",
           "ticks": "",
           "title": {
            "standoff": 15
           },
           "zerolinecolor": "#283442",
           "zerolinewidth": 2
          }
         }
        },
        "title": {
         "text": "Pick up hour=2022-07-22 00:00:00, location_id=17"
        },
        "xaxis": {
         "anchor": "y",
         "domain": [
          0,
          1
         ],
         "title": {
          "text": "x"
         }
        },
        "yaxis": {
         "anchor": "x",
         "domain": [
          0,
          1
         ],
         "title": {
          "text": "y"
         }
        }
       }
      }
     },
     "metadata": {},
     "output_type": "display_data"
    }
   ],
   "source": [
    "from src.plot import plot_one_sample\n",
    "\n",
    "plot_one_sample(\n",
    "    features=X_test,\n",
    "    targets=y_test,\n",
    "    example_id=2979,\n",
    "    predictions=pd.Series(predictions)\n",
    ")"
   ]
  },
  {
   "cell_type": "code",
   "execution_count": 9,
   "metadata": {},
   "outputs": [
    {
     "data": {
      "application/vnd.plotly.v1+json": {
       "config": {
        "plotlyServerURL": "https://plot.ly"
       },
       "data": [
        {
         "hovertemplate": "x=%{x}<br>y=%{y}<extra></extra>",
         "legendgroup": "",
         "line": {
          "color": "#636efa",
          "dash": "solid"
         },
         "marker": {
          "symbol": "circle"
         },
         "mode": "lines+markers",
         "name": "",
         "orientation": "v",
         "showlegend": false,
         "type": "scatter",
         "x": [
          "2022-09-17T00:00:00",
          "2022-09-17T01:00:00",
          "2022-09-17T02:00:00",
          "2022-09-17T03:00:00",
          "2022-09-17T04:00:00",
          "2022-09-17T05:00:00",
          "2022-09-17T06:00:00",
          "2022-09-17T07:00:00",
          "2022-09-17T08:00:00",
          "2022-09-17T09:00:00",
          "2022-09-17T10:00:00",
          "2022-09-17T11:00:00",
          "2022-09-17T12:00:00",
          "2022-09-17T13:00:00",
          "2022-09-17T14:00:00",
          "2022-09-17T15:00:00",
          "2022-09-17T16:00:00",
          "2022-09-17T17:00:00",
          "2022-09-17T18:00:00",
          "2022-09-17T19:00:00",
          "2022-09-17T20:00:00",
          "2022-09-17T21:00:00",
          "2022-09-17T22:00:00",
          "2022-09-17T23:00:00",
          "2022-09-18T00:00:00",
          "2022-09-18T01:00:00",
          "2022-09-18T02:00:00",
          "2022-09-18T03:00:00",
          "2022-09-18T04:00:00",
          "2022-09-18T05:00:00",
          "2022-09-18T06:00:00",
          "2022-09-18T07:00:00",
          "2022-09-18T08:00:00",
          "2022-09-18T09:00:00",
          "2022-09-18T10:00:00",
          "2022-09-18T11:00:00",
          "2022-09-18T12:00:00",
          "2022-09-18T13:00:00",
          "2022-09-18T14:00:00",
          "2022-09-18T15:00:00",
          "2022-09-18T16:00:00",
          "2022-09-18T17:00:00",
          "2022-09-18T18:00:00",
          "2022-09-18T19:00:00",
          "2022-09-18T20:00:00",
          "2022-09-18T21:00:00",
          "2022-09-18T22:00:00",
          "2022-09-18T23:00:00",
          "2022-09-19T00:00:00",
          "2022-09-19T01:00:00",
          "2022-09-19T02:00:00",
          "2022-09-19T03:00:00",
          "2022-09-19T04:00:00",
          "2022-09-19T05:00:00",
          "2022-09-19T06:00:00",
          "2022-09-19T07:00:00",
          "2022-09-19T08:00:00",
          "2022-09-19T09:00:00",
          "2022-09-19T10:00:00",
          "2022-09-19T11:00:00",
          "2022-09-19T12:00:00",
          "2022-09-19T13:00:00",
          "2022-09-19T14:00:00",
          "2022-09-19T15:00:00",
          "2022-09-19T16:00:00",
          "2022-09-19T17:00:00",
          "2022-09-19T18:00:00",
          "2022-09-19T19:00:00",
          "2022-09-19T20:00:00",
          "2022-09-19T21:00:00",
          "2022-09-19T22:00:00",
          "2022-09-19T23:00:00",
          "2022-09-20T00:00:00",
          "2022-09-20T01:00:00",
          "2022-09-20T02:00:00",
          "2022-09-20T03:00:00",
          "2022-09-20T04:00:00",
          "2022-09-20T05:00:00",
          "2022-09-20T06:00:00",
          "2022-09-20T07:00:00",
          "2022-09-20T08:00:00",
          "2022-09-20T09:00:00",
          "2022-09-20T10:00:00",
          "2022-09-20T11:00:00",
          "2022-09-20T12:00:00",
          "2022-09-20T13:00:00",
          "2022-09-20T14:00:00",
          "2022-09-20T15:00:00",
          "2022-09-20T16:00:00",
          "2022-09-20T17:00:00",
          "2022-09-20T18:00:00",
          "2022-09-20T19:00:00",
          "2022-09-20T20:00:00",
          "2022-09-20T21:00:00",
          "2022-09-20T22:00:00",
          "2022-09-20T23:00:00",
          "2022-09-21T00:00:00",
          "2022-09-21T01:00:00",
          "2022-09-21T02:00:00",
          "2022-09-21T03:00:00",
          "2022-09-21T04:00:00",
          "2022-09-21T05:00:00",
          "2022-09-21T06:00:00",
          "2022-09-21T07:00:00",
          "2022-09-21T08:00:00",
          "2022-09-21T09:00:00",
          "2022-09-21T10:00:00",
          "2022-09-21T11:00:00",
          "2022-09-21T12:00:00",
          "2022-09-21T13:00:00",
          "2022-09-21T14:00:00",
          "2022-09-21T15:00:00",
          "2022-09-21T16:00:00",
          "2022-09-21T17:00:00",
          "2022-09-21T18:00:00",
          "2022-09-21T19:00:00",
          "2022-09-21T20:00:00",
          "2022-09-21T21:00:00",
          "2022-09-21T22:00:00",
          "2022-09-21T23:00:00",
          "2022-09-22T00:00:00",
          "2022-09-22T01:00:00",
          "2022-09-22T02:00:00",
          "2022-09-22T03:00:00",
          "2022-09-22T04:00:00",
          "2022-09-22T05:00:00",
          "2022-09-22T06:00:00",
          "2022-09-22T07:00:00",
          "2022-09-22T08:00:00",
          "2022-09-22T09:00:00",
          "2022-09-22T10:00:00",
          "2022-09-22T11:00:00",
          "2022-09-22T12:00:00",
          "2022-09-22T13:00:00",
          "2022-09-22T14:00:00",
          "2022-09-22T15:00:00",
          "2022-09-22T16:00:00",
          "2022-09-22T17:00:00",
          "2022-09-22T18:00:00",
          "2022-09-22T19:00:00",
          "2022-09-22T20:00:00",
          "2022-09-22T21:00:00",
          "2022-09-22T22:00:00",
          "2022-09-22T23:00:00",
          "2022-09-23T00:00:00",
          "2022-09-23T01:00:00",
          "2022-09-23T02:00:00",
          "2022-09-23T03:00:00",
          "2022-09-23T04:00:00",
          "2022-09-23T05:00:00",
          "2022-09-23T06:00:00",
          "2022-09-23T07:00:00",
          "2022-09-23T08:00:00",
          "2022-09-23T09:00:00",
          "2022-09-23T10:00:00",
          "2022-09-23T11:00:00",
          "2022-09-23T12:00:00",
          "2022-09-23T13:00:00",
          "2022-09-23T14:00:00",
          "2022-09-23T15:00:00",
          "2022-09-23T16:00:00",
          "2022-09-23T17:00:00",
          "2022-09-23T18:00:00",
          "2022-09-23T19:00:00",
          "2022-09-23T20:00:00",
          "2022-09-23T21:00:00",
          "2022-09-23T22:00:00",
          "2022-09-23T23:00:00",
          "2022-09-24T00:00:00",
          "2022-09-24T01:00:00",
          "2022-09-24T02:00:00",
          "2022-09-24T03:00:00",
          "2022-09-24T04:00:00",
          "2022-09-24T05:00:00",
          "2022-09-24T06:00:00",
          "2022-09-24T07:00:00",
          "2022-09-24T08:00:00",
          "2022-09-24T09:00:00",
          "2022-09-24T10:00:00",
          "2022-09-24T11:00:00",
          "2022-09-24T12:00:00",
          "2022-09-24T13:00:00",
          "2022-09-24T14:00:00",
          "2022-09-24T15:00:00",
          "2022-09-24T16:00:00",
          "2022-09-24T17:00:00",
          "2022-09-24T18:00:00",
          "2022-09-24T19:00:00",
          "2022-09-24T20:00:00",
          "2022-09-24T21:00:00",
          "2022-09-24T22:00:00",
          "2022-09-24T23:00:00",
          "2022-09-25T00:00:00",
          "2022-09-25T01:00:00",
          "2022-09-25T02:00:00",
          "2022-09-25T03:00:00",
          "2022-09-25T04:00:00",
          "2022-09-25T05:00:00",
          "2022-09-25T06:00:00",
          "2022-09-25T07:00:00",
          "2022-09-25T08:00:00",
          "2022-09-25T09:00:00",
          "2022-09-25T10:00:00",
          "2022-09-25T11:00:00",
          "2022-09-25T12:00:00",
          "2022-09-25T13:00:00",
          "2022-09-25T14:00:00",
          "2022-09-25T15:00:00",
          "2022-09-25T16:00:00",
          "2022-09-25T17:00:00",
          "2022-09-25T18:00:00",
          "2022-09-25T19:00:00",
          "2022-09-25T20:00:00",
          "2022-09-25T21:00:00",
          "2022-09-25T22:00:00",
          "2022-09-25T23:00:00",
          "2022-09-26T00:00:00",
          "2022-09-26T01:00:00",
          "2022-09-26T02:00:00",
          "2022-09-26T03:00:00",
          "2022-09-26T04:00:00",
          "2022-09-26T05:00:00",
          "2022-09-26T06:00:00",
          "2022-09-26T07:00:00",
          "2022-09-26T08:00:00",
          "2022-09-26T09:00:00",
          "2022-09-26T10:00:00",
          "2022-09-26T11:00:00",
          "2022-09-26T12:00:00",
          "2022-09-26T13:00:00",
          "2022-09-26T14:00:00",
          "2022-09-26T15:00:00",
          "2022-09-26T16:00:00",
          "2022-09-26T17:00:00",
          "2022-09-26T18:00:00",
          "2022-09-26T19:00:00",
          "2022-09-26T20:00:00",
          "2022-09-26T21:00:00",
          "2022-09-26T22:00:00",
          "2022-09-26T23:00:00",
          "2022-09-27T00:00:00",
          "2022-09-27T01:00:00",
          "2022-09-27T02:00:00",
          "2022-09-27T03:00:00",
          "2022-09-27T04:00:00",
          "2022-09-27T05:00:00",
          "2022-09-27T06:00:00",
          "2022-09-27T07:00:00",
          "2022-09-27T08:00:00",
          "2022-09-27T09:00:00",
          "2022-09-27T10:00:00",
          "2022-09-27T11:00:00",
          "2022-09-27T12:00:00",
          "2022-09-27T13:00:00",
          "2022-09-27T14:00:00",
          "2022-09-27T15:00:00",
          "2022-09-27T16:00:00",
          "2022-09-27T17:00:00",
          "2022-09-27T18:00:00",
          "2022-09-27T19:00:00",
          "2022-09-27T20:00:00",
          "2022-09-27T21:00:00",
          "2022-09-27T22:00:00",
          "2022-09-27T23:00:00",
          "2022-09-28T00:00:00",
          "2022-09-28T01:00:00",
          "2022-09-28T02:00:00",
          "2022-09-28T03:00:00",
          "2022-09-28T04:00:00",
          "2022-09-28T05:00:00",
          "2022-09-28T06:00:00",
          "2022-09-28T07:00:00",
          "2022-09-28T08:00:00",
          "2022-09-28T09:00:00",
          "2022-09-28T10:00:00",
          "2022-09-28T11:00:00",
          "2022-09-28T12:00:00",
          "2022-09-28T13:00:00",
          "2022-09-28T14:00:00",
          "2022-09-28T15:00:00",
          "2022-09-28T16:00:00",
          "2022-09-28T17:00:00",
          "2022-09-28T18:00:00",
          "2022-09-28T19:00:00",
          "2022-09-28T20:00:00",
          "2022-09-28T21:00:00",
          "2022-09-28T22:00:00",
          "2022-09-28T23:00:00",
          "2022-09-29T00:00:00",
          "2022-09-29T01:00:00",
          "2022-09-29T02:00:00",
          "2022-09-29T03:00:00",
          "2022-09-29T04:00:00",
          "2022-09-29T05:00:00",
          "2022-09-29T06:00:00",
          "2022-09-29T07:00:00",
          "2022-09-29T08:00:00",
          "2022-09-29T09:00:00",
          "2022-09-29T10:00:00",
          "2022-09-29T11:00:00",
          "2022-09-29T12:00:00",
          "2022-09-29T13:00:00",
          "2022-09-29T14:00:00",
          "2022-09-29T15:00:00",
          "2022-09-29T16:00:00",
          "2022-09-29T17:00:00",
          "2022-09-29T18:00:00",
          "2022-09-29T19:00:00",
          "2022-09-29T20:00:00",
          "2022-09-29T21:00:00",
          "2022-09-29T22:00:00",
          "2022-09-29T23:00:00",
          "2022-09-30T00:00:00",
          "2022-09-30T01:00:00",
          "2022-09-30T02:00:00",
          "2022-09-30T03:00:00",
          "2022-09-30T04:00:00",
          "2022-09-30T05:00:00",
          "2022-09-30T06:00:00",
          "2022-09-30T07:00:00",
          "2022-09-30T08:00:00",
          "2022-09-30T09:00:00",
          "2022-09-30T10:00:00",
          "2022-09-30T11:00:00",
          "2022-09-30T12:00:00",
          "2022-09-30T13:00:00",
          "2022-09-30T14:00:00",
          "2022-09-30T15:00:00",
          "2022-09-30T16:00:00",
          "2022-09-30T17:00:00",
          "2022-09-30T18:00:00",
          "2022-09-30T19:00:00",
          "2022-09-30T20:00:00",
          "2022-09-30T21:00:00",
          "2022-09-30T22:00:00",
          "2022-09-30T23:00:00",
          "2022-10-01T00:00:00",
          "2022-10-01T01:00:00",
          "2022-10-01T02:00:00",
          "2022-10-01T03:00:00",
          "2022-10-01T04:00:00",
          "2022-10-01T05:00:00",
          "2022-10-01T06:00:00",
          "2022-10-01T07:00:00",
          "2022-10-01T08:00:00",
          "2022-10-01T09:00:00",
          "2022-10-01T10:00:00",
          "2022-10-01T11:00:00",
          "2022-10-01T12:00:00",
          "2022-10-01T13:00:00",
          "2022-10-01T14:00:00",
          "2022-10-01T15:00:00",
          "2022-10-01T16:00:00",
          "2022-10-01T17:00:00",
          "2022-10-01T18:00:00",
          "2022-10-01T19:00:00",
          "2022-10-01T20:00:00",
          "2022-10-01T21:00:00",
          "2022-10-01T22:00:00",
          "2022-10-01T23:00:00",
          "2022-10-02T00:00:00",
          "2022-10-02T01:00:00",
          "2022-10-02T02:00:00",
          "2022-10-02T03:00:00",
          "2022-10-02T04:00:00",
          "2022-10-02T05:00:00",
          "2022-10-02T06:00:00",
          "2022-10-02T07:00:00",
          "2022-10-02T08:00:00",
          "2022-10-02T09:00:00",
          "2022-10-02T10:00:00",
          "2022-10-02T11:00:00",
          "2022-10-02T12:00:00",
          "2022-10-02T13:00:00",
          "2022-10-02T14:00:00",
          "2022-10-02T15:00:00",
          "2022-10-02T16:00:00",
          "2022-10-02T17:00:00",
          "2022-10-02T18:00:00",
          "2022-10-02T19:00:00",
          "2022-10-02T20:00:00",
          "2022-10-02T21:00:00",
          "2022-10-02T22:00:00",
          "2022-10-02T23:00:00",
          "2022-10-03T00:00:00",
          "2022-10-03T01:00:00",
          "2022-10-03T02:00:00",
          "2022-10-03T03:00:00",
          "2022-10-03T04:00:00",
          "2022-10-03T05:00:00",
          "2022-10-03T06:00:00",
          "2022-10-03T07:00:00",
          "2022-10-03T08:00:00",
          "2022-10-03T09:00:00",
          "2022-10-03T10:00:00",
          "2022-10-03T11:00:00",
          "2022-10-03T12:00:00",
          "2022-10-03T13:00:00",
          "2022-10-03T14:00:00",
          "2022-10-03T15:00:00",
          "2022-10-03T16:00:00",
          "2022-10-03T17:00:00",
          "2022-10-03T18:00:00",
          "2022-10-03T19:00:00",
          "2022-10-03T20:00:00",
          "2022-10-03T21:00:00",
          "2022-10-03T22:00:00",
          "2022-10-03T23:00:00",
          "2022-10-04T00:00:00",
          "2022-10-04T01:00:00",
          "2022-10-04T02:00:00",
          "2022-10-04T03:00:00",
          "2022-10-04T04:00:00",
          "2022-10-04T05:00:00",
          "2022-10-04T06:00:00",
          "2022-10-04T07:00:00",
          "2022-10-04T08:00:00",
          "2022-10-04T09:00:00",
          "2022-10-04T10:00:00",
          "2022-10-04T11:00:00",
          "2022-10-04T12:00:00",
          "2022-10-04T13:00:00",
          "2022-10-04T14:00:00",
          "2022-10-04T15:00:00",
          "2022-10-04T16:00:00",
          "2022-10-04T17:00:00",
          "2022-10-04T18:00:00",
          "2022-10-04T19:00:00",
          "2022-10-04T20:00:00",
          "2022-10-04T21:00:00",
          "2022-10-04T22:00:00",
          "2022-10-04T23:00:00",
          "2022-10-05T00:00:00",
          "2022-10-05T01:00:00",
          "2022-10-05T02:00:00",
          "2022-10-05T03:00:00",
          "2022-10-05T04:00:00",
          "2022-10-05T05:00:00",
          "2022-10-05T06:00:00",
          "2022-10-05T07:00:00",
          "2022-10-05T08:00:00",
          "2022-10-05T09:00:00",
          "2022-10-05T10:00:00",
          "2022-10-05T11:00:00",
          "2022-10-05T12:00:00",
          "2022-10-05T13:00:00",
          "2022-10-05T14:00:00",
          "2022-10-05T15:00:00",
          "2022-10-05T16:00:00",
          "2022-10-05T17:00:00",
          "2022-10-05T18:00:00",
          "2022-10-05T19:00:00",
          "2022-10-05T20:00:00",
          "2022-10-05T21:00:00",
          "2022-10-05T22:00:00",
          "2022-10-05T23:00:00",
          "2022-10-06T00:00:00",
          "2022-10-06T01:00:00",
          "2022-10-06T02:00:00",
          "2022-10-06T03:00:00",
          "2022-10-06T04:00:00",
          "2022-10-06T05:00:00",
          "2022-10-06T06:00:00",
          "2022-10-06T07:00:00",
          "2022-10-06T08:00:00",
          "2022-10-06T09:00:00",
          "2022-10-06T10:00:00",
          "2022-10-06T11:00:00",
          "2022-10-06T12:00:00",
          "2022-10-06T13:00:00",
          "2022-10-06T14:00:00",
          "2022-10-06T15:00:00",
          "2022-10-06T16:00:00",
          "2022-10-06T17:00:00",
          "2022-10-06T18:00:00",
          "2022-10-06T19:00:00",
          "2022-10-06T20:00:00",
          "2022-10-06T21:00:00",
          "2022-10-06T22:00:00",
          "2022-10-06T23:00:00",
          "2022-10-07T00:00:00",
          "2022-10-07T01:00:00",
          "2022-10-07T02:00:00",
          "2022-10-07T03:00:00",
          "2022-10-07T04:00:00",
          "2022-10-07T05:00:00",
          "2022-10-07T06:00:00",
          "2022-10-07T07:00:00",
          "2022-10-07T08:00:00",
          "2022-10-07T09:00:00",
          "2022-10-07T10:00:00",
          "2022-10-07T11:00:00",
          "2022-10-07T12:00:00",
          "2022-10-07T13:00:00",
          "2022-10-07T14:00:00",
          "2022-10-07T15:00:00",
          "2022-10-07T16:00:00",
          "2022-10-07T17:00:00",
          "2022-10-07T18:00:00",
          "2022-10-07T19:00:00",
          "2022-10-07T20:00:00",
          "2022-10-07T21:00:00",
          "2022-10-07T22:00:00",
          "2022-10-07T23:00:00",
          "2022-10-08T00:00:00",
          "2022-10-08T01:00:00",
          "2022-10-08T02:00:00",
          "2022-10-08T03:00:00",
          "2022-10-08T04:00:00",
          "2022-10-08T05:00:00",
          "2022-10-08T06:00:00",
          "2022-10-08T07:00:00",
          "2022-10-08T08:00:00",
          "2022-10-08T09:00:00",
          "2022-10-08T10:00:00",
          "2022-10-08T11:00:00",
          "2022-10-08T12:00:00",
          "2022-10-08T13:00:00",
          "2022-10-08T14:00:00",
          "2022-10-08T15:00:00",
          "2022-10-08T16:00:00",
          "2022-10-08T17:00:00",
          "2022-10-08T18:00:00",
          "2022-10-08T19:00:00",
          "2022-10-08T20:00:00",
          "2022-10-08T21:00:00",
          "2022-10-08T22:00:00",
          "2022-10-08T23:00:00",
          "2022-10-09T00:00:00",
          "2022-10-09T01:00:00",
          "2022-10-09T02:00:00",
          "2022-10-09T03:00:00",
          "2022-10-09T04:00:00",
          "2022-10-09T05:00:00",
          "2022-10-09T06:00:00",
          "2022-10-09T07:00:00",
          "2022-10-09T08:00:00",
          "2022-10-09T09:00:00",
          "2022-10-09T10:00:00",
          "2022-10-09T11:00:00",
          "2022-10-09T12:00:00",
          "2022-10-09T13:00:00",
          "2022-10-09T14:00:00",
          "2022-10-09T15:00:00",
          "2022-10-09T16:00:00",
          "2022-10-09T17:00:00",
          "2022-10-09T18:00:00",
          "2022-10-09T19:00:00",
          "2022-10-09T20:00:00",
          "2022-10-09T21:00:00",
          "2022-10-09T22:00:00",
          "2022-10-09T23:00:00",
          "2022-10-10T00:00:00",
          "2022-10-10T01:00:00",
          "2022-10-10T02:00:00",
          "2022-10-10T03:00:00",
          "2022-10-10T04:00:00",
          "2022-10-10T05:00:00",
          "2022-10-10T06:00:00",
          "2022-10-10T07:00:00",
          "2022-10-10T08:00:00",
          "2022-10-10T09:00:00",
          "2022-10-10T10:00:00",
          "2022-10-10T11:00:00",
          "2022-10-10T12:00:00",
          "2022-10-10T13:00:00",
          "2022-10-10T14:00:00",
          "2022-10-10T15:00:00",
          "2022-10-10T16:00:00",
          "2022-10-10T17:00:00",
          "2022-10-10T18:00:00",
          "2022-10-10T19:00:00",
          "2022-10-10T20:00:00",
          "2022-10-10T21:00:00",
          "2022-10-10T22:00:00",
          "2022-10-10T23:00:00",
          "2022-10-11T00:00:00",
          "2022-10-11T01:00:00",
          "2022-10-11T02:00:00",
          "2022-10-11T03:00:00",
          "2022-10-11T04:00:00",
          "2022-10-11T05:00:00",
          "2022-10-11T06:00:00",
          "2022-10-11T07:00:00",
          "2022-10-11T08:00:00",
          "2022-10-11T09:00:00",
          "2022-10-11T10:00:00",
          "2022-10-11T11:00:00",
          "2022-10-11T12:00:00",
          "2022-10-11T13:00:00",
          "2022-10-11T14:00:00",
          "2022-10-11T15:00:00",
          "2022-10-11T16:00:00",
          "2022-10-11T17:00:00",
          "2022-10-11T18:00:00",
          "2022-10-11T19:00:00",
          "2022-10-11T20:00:00",
          "2022-10-11T21:00:00",
          "2022-10-11T22:00:00",
          "2022-10-11T23:00:00",
          "2022-10-12T00:00:00",
          "2022-10-12T01:00:00",
          "2022-10-12T02:00:00",
          "2022-10-12T03:00:00",
          "2022-10-12T04:00:00",
          "2022-10-12T05:00:00",
          "2022-10-12T06:00:00",
          "2022-10-12T07:00:00",
          "2022-10-12T08:00:00",
          "2022-10-12T09:00:00",
          "2022-10-12T10:00:00",
          "2022-10-12T11:00:00",
          "2022-10-12T12:00:00",
          "2022-10-12T13:00:00",
          "2022-10-12T14:00:00",
          "2022-10-12T15:00:00",
          "2022-10-12T16:00:00",
          "2022-10-12T17:00:00",
          "2022-10-12T18:00:00",
          "2022-10-12T19:00:00",
          "2022-10-12T20:00:00",
          "2022-10-12T21:00:00",
          "2022-10-12T22:00:00",
          "2022-10-12T23:00:00",
          "2022-10-13T00:00:00",
          "2022-10-13T01:00:00",
          "2022-10-13T02:00:00",
          "2022-10-13T03:00:00",
          "2022-10-13T04:00:00",
          "2022-10-13T05:00:00",
          "2022-10-13T06:00:00",
          "2022-10-13T07:00:00",
          "2022-10-13T08:00:00",
          "2022-10-13T09:00:00",
          "2022-10-13T10:00:00",
          "2022-10-13T11:00:00",
          "2022-10-13T12:00:00",
          "2022-10-13T13:00:00",
          "2022-10-13T14:00:00",
          "2022-10-13T15:00:00",
          "2022-10-13T16:00:00",
          "2022-10-13T17:00:00",
          "2022-10-13T18:00:00",
          "2022-10-13T19:00:00",
          "2022-10-13T20:00:00",
          "2022-10-13T21:00:00",
          "2022-10-13T22:00:00",
          "2022-10-13T23:00:00",
          "2022-10-14T00:00:00",
          "2022-10-14T01:00:00",
          "2022-10-14T02:00:00",
          "2022-10-14T03:00:00",
          "2022-10-14T04:00:00",
          "2022-10-14T05:00:00",
          "2022-10-14T06:00:00",
          "2022-10-14T07:00:00",
          "2022-10-14T08:00:00",
          "2022-10-14T09:00:00",
          "2022-10-14T10:00:00",
          "2022-10-14T11:00:00",
          "2022-10-14T12:00:00",
          "2022-10-14T13:00:00",
          "2022-10-14T14:00:00",
          "2022-10-14T15:00:00",
          "2022-10-14T16:00:00",
          "2022-10-14T17:00:00",
          "2022-10-14T18:00:00",
          "2022-10-14T19:00:00",
          "2022-10-14T20:00:00",
          "2022-10-14T21:00:00",
          "2022-10-14T22:00:00",
          "2022-10-14T23:00:00",
          "2022-10-15T00:00:00"
         ],
         "xaxis": "x",
         "y": [
          0,
          0,
          0,
          0,
          0,
          0,
          0,
          0,
          0,
          0,
          0,
          0,
          0,
          0,
          0,
          0,
          0,
          0,
          0,
          0,
          0,
          0,
          0,
          0,
          0,
          0,
          0,
          0,
          0,
          0,
          0,
          0,
          1,
          0,
          0,
          0,
          0,
          0,
          0,
          0,
          0,
          0,
          0,
          0,
          0,
          0,
          0,
          0,
          0,
          0,
          0,
          0,
          0,
          0,
          0,
          0,
          0,
          0,
          0,
          0,
          0,
          0,
          0,
          1,
          0,
          0,
          0,
          0,
          1,
          0,
          0,
          0,
          1,
          0,
          0,
          0,
          0,
          1,
          0,
          0,
          0,
          1,
          0,
          0,
          0,
          0,
          0,
          0,
          0,
          1,
          1,
          1,
          0,
          0,
          0,
          0,
          0,
          0,
          0,
          0,
          1,
          0,
          0,
          1,
          0,
          1,
          0,
          0,
          0,
          1,
          0,
          0,
          0,
          0,
          0,
          0,
          0,
          0,
          0,
          0,
          0,
          0,
          0,
          0,
          0,
          0,
          0,
          0,
          0,
          0,
          0,
          0,
          0,
          0,
          0,
          0,
          0,
          0,
          0,
          0,
          0,
          0,
          2,
          0,
          0,
          0,
          0,
          0,
          0,
          1,
          0,
          0,
          1,
          2,
          0,
          1,
          1,
          0,
          0,
          0,
          0,
          0,
          0,
          1,
          0,
          0,
          1,
          0,
          0,
          0,
          0,
          0,
          1,
          0,
          0,
          0,
          0,
          0,
          0,
          0,
          0,
          0,
          0,
          0,
          1,
          0,
          0,
          0,
          0,
          0,
          0,
          0,
          0,
          0,
          0,
          0,
          1,
          0,
          0,
          0,
          0,
          0,
          1,
          0,
          0,
          0,
          0,
          0,
          0,
          1,
          0,
          0,
          0,
          0,
          0,
          0,
          0,
          0,
          0,
          0,
          0,
          0,
          1,
          0,
          1,
          0,
          0,
          1,
          0,
          0,
          1,
          0,
          0,
          1,
          0,
          0,
          0,
          1,
          1,
          0,
          0,
          0,
          0,
          0,
          0,
          0,
          0,
          0,
          0,
          0,
          1,
          0,
          0,
          1,
          0,
          0,
          0,
          0,
          0,
          1,
          1,
          0,
          0,
          0,
          0,
          0,
          0,
          0,
          0,
          0,
          0,
          0,
          0,
          1,
          0,
          0,
          1,
          0,
          0,
          0,
          1,
          0,
          0,
          0,
          0,
          0,
          0,
          0,
          0,
          0,
          0,
          0,
          0,
          0,
          0,
          0,
          0,
          0,
          0,
          0,
          1,
          0,
          2,
          0,
          0,
          0,
          0,
          0,
          0,
          0,
          0,
          0,
          0,
          0,
          0,
          0,
          0,
          0,
          0,
          0,
          0,
          0,
          0,
          1,
          1,
          0,
          0,
          1,
          0,
          0,
          0,
          0,
          0,
          0,
          0,
          0,
          0,
          0,
          0,
          0,
          0,
          0,
          0,
          0,
          0,
          0,
          1,
          0,
          0,
          0,
          0,
          0,
          0,
          0,
          0,
          0,
          0,
          0,
          0,
          0,
          2,
          0,
          0,
          0,
          0,
          1,
          0,
          0,
          0,
          1,
          0,
          0,
          0,
          0,
          0,
          0,
          0,
          0,
          0,
          0,
          0,
          0,
          0,
          0,
          0,
          0,
          0,
          0,
          0,
          1,
          1,
          0,
          0,
          1,
          0,
          0,
          1,
          0,
          0,
          0,
          0,
          0,
          0,
          0,
          0,
          1,
          0,
          0,
          0,
          0,
          0,
          0,
          0,
          0,
          1,
          1,
          0,
          0,
          0,
          0,
          0,
          0,
          0,
          0,
          0,
          0,
          0,
          1,
          0,
          0,
          0,
          0,
          0,
          0,
          0,
          0,
          0,
          1,
          0,
          0,
          1,
          0,
          0,
          0,
          0,
          0,
          0,
          0,
          0,
          0,
          0,
          0,
          1,
          0,
          0,
          0,
          0,
          0,
          0,
          0,
          1,
          0,
          0,
          1,
          1,
          0,
          0,
          0,
          1,
          0,
          1,
          0,
          0,
          1,
          0,
          0,
          0,
          0,
          0,
          0,
          0,
          0,
          0,
          0,
          0,
          2,
          0,
          1,
          0,
          1,
          0,
          0,
          0,
          0,
          0,
          0,
          0,
          0,
          0,
          0,
          0,
          1,
          0,
          0,
          0,
          0,
          0,
          0,
          0,
          0,
          0,
          0,
          0,
          1,
          0,
          0,
          0,
          0,
          0,
          0,
          0,
          0,
          0,
          0,
          0,
          0,
          1,
          0,
          0,
          0,
          0,
          0,
          0,
          0,
          0,
          0,
          0,
          0,
          2,
          0,
          0,
          0,
          0,
          0,
          0,
          0,
          0,
          0,
          0,
          0,
          0,
          0,
          0,
          0,
          0,
          0,
          0,
          1,
          0,
          0,
          0,
          0,
          0,
          0,
          0,
          0,
          0,
          0,
          1,
          0,
          0,
          0,
          0,
          0,
          0,
          0,
          0,
          0,
          0,
          0,
          0,
          0,
          0,
          1,
          0,
          1,
          0,
          0,
          1,
          0,
          0,
          0,
          0,
          0,
          0,
          0,
          0,
          0,
          0,
          0,
          0,
          0,
          0,
          0,
          0,
          0,
          0,
          0,
          0,
          0,
          0,
          1,
          0,
          1,
          0,
          0,
          0,
          0,
          0,
          0,
          0,
          0,
          0,
          0,
          1,
          0,
          0,
          0,
          0,
          0,
          1,
          0,
          0,
          0,
          3,
          0,
          1,
          0,
          0,
          0,
          0,
          1,
          0,
          0,
          0,
          0,
          0,
          0,
          0,
          0,
          0,
          0,
          0,
          1,
          0,
          0,
          1,
          0,
          1,
          0,
          0,
          0,
          0,
          0,
          0,
          0,
          0,
          0,
          0,
          0,
          0,
          0,
          0
         ],
         "yaxis": "y"
        },
        {
         "line": {
          "color": "green"
         },
         "marker": {
          "size": 10
         },
         "mode": "markers",
         "name": "actual value",
         "type": "scatter",
         "x": [
          "2022-10-15T00:00:00"
         ],
         "y": [
          0
         ]
        },
        {
         "line": {
          "color": "red"
         },
         "marker": {
          "size": 15,
          "symbol": "x"
         },
         "mode": "markers",
         "name": "prediction",
         "type": "scatter",
         "x": [
          "2022-10-15T00:00:00"
         ],
         "y": [
          0.06167273616506988
         ]
        }
       ],
       "layout": {
        "legend": {
         "tracegroupgap": 0
        },
        "template": {
         "data": {
          "bar": [
           {
            "error_x": {
             "color": "#f2f5fa"
            },
            "error_y": {
             "color": "#f2f5fa"
            },
            "marker": {
             "line": {
              "color": "rgb(17,17,17)",
              "width": 0.5
             },
             "pattern": {
              "fillmode": "overlay",
              "size": 10,
              "solidity": 0.2
             }
            },
            "type": "bar"
           }
          ],
          "barpolar": [
           {
            "marker": {
             "line": {
              "color": "rgb(17,17,17)",
              "width": 0.5
             },
             "pattern": {
              "fillmode": "overlay",
              "size": 10,
              "solidity": 0.2
             }
            },
            "type": "barpolar"
           }
          ],
          "carpet": [
           {
            "aaxis": {
             "endlinecolor": "#A2B1C6",
             "gridcolor": "#506784",
             "linecolor": "#506784",
             "minorgridcolor": "#506784",
             "startlinecolor": "#A2B1C6"
            },
            "baxis": {
             "endlinecolor": "#A2B1C6",
             "gridcolor": "#506784",
             "linecolor": "#506784",
             "minorgridcolor": "#506784",
             "startlinecolor": "#A2B1C6"
            },
            "type": "carpet"
           }
          ],
          "choropleth": [
           {
            "colorbar": {
             "outlinewidth": 0,
             "ticks": ""
            },
            "type": "choropleth"
           }
          ],
          "contour": [
           {
            "colorbar": {
             "outlinewidth": 0,
             "ticks": ""
            },
            "colorscale": [
             [
              0,
              "#0d0887"
             ],
             [
              0.1111111111111111,
              "#46039f"
             ],
             [
              0.2222222222222222,
              "#7201a8"
             ],
             [
              0.3333333333333333,
              "#9c179e"
             ],
             [
              0.4444444444444444,
              "#bd3786"
             ],
             [
              0.5555555555555556,
              "#d8576b"
             ],
             [
              0.6666666666666666,
              "#ed7953"
             ],
             [
              0.7777777777777778,
              "#fb9f3a"
             ],
             [
              0.8888888888888888,
              "#fdca26"
             ],
             [
              1,
              "#f0f921"
             ]
            ],
            "type": "contour"
           }
          ],
          "contourcarpet": [
           {
            "colorbar": {
             "outlinewidth": 0,
             "ticks": ""
            },
            "type": "contourcarpet"
           }
          ],
          "heatmap": [
           {
            "colorbar": {
             "outlinewidth": 0,
             "ticks": ""
            },
            "colorscale": [
             [
              0,
              "#0d0887"
             ],
             [
              0.1111111111111111,
              "#46039f"
             ],
             [
              0.2222222222222222,
              "#7201a8"
             ],
             [
              0.3333333333333333,
              "#9c179e"
             ],
             [
              0.4444444444444444,
              "#bd3786"
             ],
             [
              0.5555555555555556,
              "#d8576b"
             ],
             [
              0.6666666666666666,
              "#ed7953"
             ],
             [
              0.7777777777777778,
              "#fb9f3a"
             ],
             [
              0.8888888888888888,
              "#fdca26"
             ],
             [
              1,
              "#f0f921"
             ]
            ],
            "type": "heatmap"
           }
          ],
          "heatmapgl": [
           {
            "colorbar": {
             "outlinewidth": 0,
             "ticks": ""
            },
            "colorscale": [
             [
              0,
              "#0d0887"
             ],
             [
              0.1111111111111111,
              "#46039f"
             ],
             [
              0.2222222222222222,
              "#7201a8"
             ],
             [
              0.3333333333333333,
              "#9c179e"
             ],
             [
              0.4444444444444444,
              "#bd3786"
             ],
             [
              0.5555555555555556,
              "#d8576b"
             ],
             [
              0.6666666666666666,
              "#ed7953"
             ],
             [
              0.7777777777777778,
              "#fb9f3a"
             ],
             [
              0.8888888888888888,
              "#fdca26"
             ],
             [
              1,
              "#f0f921"
             ]
            ],
            "type": "heatmapgl"
           }
          ],
          "histogram": [
           {
            "marker": {
             "pattern": {
              "fillmode": "overlay",
              "size": 10,
              "solidity": 0.2
             }
            },
            "type": "histogram"
           }
          ],
          "histogram2d": [
           {
            "colorbar": {
             "outlinewidth": 0,
             "ticks": ""
            },
            "colorscale": [
             [
              0,
              "#0d0887"
             ],
             [
              0.1111111111111111,
              "#46039f"
             ],
             [
              0.2222222222222222,
              "#7201a8"
             ],
             [
              0.3333333333333333,
              "#9c179e"
             ],
             [
              0.4444444444444444,
              "#bd3786"
             ],
             [
              0.5555555555555556,
              "#d8576b"
             ],
             [
              0.6666666666666666,
              "#ed7953"
             ],
             [
              0.7777777777777778,
              "#fb9f3a"
             ],
             [
              0.8888888888888888,
              "#fdca26"
             ],
             [
              1,
              "#f0f921"
             ]
            ],
            "type": "histogram2d"
           }
          ],
          "histogram2dcontour": [
           {
            "colorbar": {
             "outlinewidth": 0,
             "ticks": ""
            },
            "colorscale": [
             [
              0,
              "#0d0887"
             ],
             [
              0.1111111111111111,
              "#46039f"
             ],
             [
              0.2222222222222222,
              "#7201a8"
             ],
             [
              0.3333333333333333,
              "#9c179e"
             ],
             [
              0.4444444444444444,
              "#bd3786"
             ],
             [
              0.5555555555555556,
              "#d8576b"
             ],
             [
              0.6666666666666666,
              "#ed7953"
             ],
             [
              0.7777777777777778,
              "#fb9f3a"
             ],
             [
              0.8888888888888888,
              "#fdca26"
             ],
             [
              1,
              "#f0f921"
             ]
            ],
            "type": "histogram2dcontour"
           }
          ],
          "mesh3d": [
           {
            "colorbar": {
             "outlinewidth": 0,
             "ticks": ""
            },
            "type": "mesh3d"
           }
          ],
          "parcoords": [
           {
            "line": {
             "colorbar": {
              "outlinewidth": 0,
              "ticks": ""
             }
            },
            "type": "parcoords"
           }
          ],
          "pie": [
           {
            "automargin": true,
            "type": "pie"
           }
          ],
          "scatter": [
           {
            "marker": {
             "line": {
              "color": "#283442"
             }
            },
            "type": "scatter"
           }
          ],
          "scatter3d": [
           {
            "line": {
             "colorbar": {
              "outlinewidth": 0,
              "ticks": ""
             }
            },
            "marker": {
             "colorbar": {
              "outlinewidth": 0,
              "ticks": ""
             }
            },
            "type": "scatter3d"
           }
          ],
          "scattercarpet": [
           {
            "marker": {
             "colorbar": {
              "outlinewidth": 0,
              "ticks": ""
             }
            },
            "type": "scattercarpet"
           }
          ],
          "scattergeo": [
           {
            "marker": {
             "colorbar": {
              "outlinewidth": 0,
              "ticks": ""
             }
            },
            "type": "scattergeo"
           }
          ],
          "scattergl": [
           {
            "marker": {
             "line": {
              "color": "#283442"
             }
            },
            "type": "scattergl"
           }
          ],
          "scattermapbox": [
           {
            "marker": {
             "colorbar": {
              "outlinewidth": 0,
              "ticks": ""
             }
            },
            "type": "scattermapbox"
           }
          ],
          "scatterpolar": [
           {
            "marker": {
             "colorbar": {
              "outlinewidth": 0,
              "ticks": ""
             }
            },
            "type": "scatterpolar"
           }
          ],
          "scatterpolargl": [
           {
            "marker": {
             "colorbar": {
              "outlinewidth": 0,
              "ticks": ""
             }
            },
            "type": "scatterpolargl"
           }
          ],
          "scatterternary": [
           {
            "marker": {
             "colorbar": {
              "outlinewidth": 0,
              "ticks": ""
             }
            },
            "type": "scatterternary"
           }
          ],
          "surface": [
           {
            "colorbar": {
             "outlinewidth": 0,
             "ticks": ""
            },
            "colorscale": [
             [
              0,
              "#0d0887"
             ],
             [
              0.1111111111111111,
              "#46039f"
             ],
             [
              0.2222222222222222,
              "#7201a8"
             ],
             [
              0.3333333333333333,
              "#9c179e"
             ],
             [
              0.4444444444444444,
              "#bd3786"
             ],
             [
              0.5555555555555556,
              "#d8576b"
             ],
             [
              0.6666666666666666,
              "#ed7953"
             ],
             [
              0.7777777777777778,
              "#fb9f3a"
             ],
             [
              0.8888888888888888,
              "#fdca26"
             ],
             [
              1,
              "#f0f921"
             ]
            ],
            "type": "surface"
           }
          ],
          "table": [
           {
            "cells": {
             "fill": {
              "color": "#506784"
             },
             "line": {
              "color": "rgb(17,17,17)"
             }
            },
            "header": {
             "fill": {
              "color": "#2a3f5f"
             },
             "line": {
              "color": "rgb(17,17,17)"
             }
            },
            "type": "table"
           }
          ]
         },
         "layout": {
          "annotationdefaults": {
           "arrowcolor": "#f2f5fa",
           "arrowhead": 0,
           "arrowwidth": 1
          },
          "autotypenumbers": "strict",
          "coloraxis": {
           "colorbar": {
            "outlinewidth": 0,
            "ticks": ""
           }
          },
          "colorscale": {
           "diverging": [
            [
             0,
             "#8e0152"
            ],
            [
             0.1,
             "#c51b7d"
            ],
            [
             0.2,
             "#de77ae"
            ],
            [
             0.3,
             "#f1b6da"
            ],
            [
             0.4,
             "#fde0ef"
            ],
            [
             0.5,
             "#f7f7f7"
            ],
            [
             0.6,
             "#e6f5d0"
            ],
            [
             0.7,
             "#b8e186"
            ],
            [
             0.8,
             "#7fbc41"
            ],
            [
             0.9,
             "#4d9221"
            ],
            [
             1,
             "#276419"
            ]
           ],
           "sequential": [
            [
             0,
             "#0d0887"
            ],
            [
             0.1111111111111111,
             "#46039f"
            ],
            [
             0.2222222222222222,
             "#7201a8"
            ],
            [
             0.3333333333333333,
             "#9c179e"
            ],
            [
             0.4444444444444444,
             "#bd3786"
            ],
            [
             0.5555555555555556,
             "#d8576b"
            ],
            [
             0.6666666666666666,
             "#ed7953"
            ],
            [
             0.7777777777777778,
             "#fb9f3a"
            ],
            [
             0.8888888888888888,
             "#fdca26"
            ],
            [
             1,
             "#f0f921"
            ]
           ],
           "sequentialminus": [
            [
             0,
             "#0d0887"
            ],
            [
             0.1111111111111111,
             "#46039f"
            ],
            [
             0.2222222222222222,
             "#7201a8"
            ],
            [
             0.3333333333333333,
             "#9c179e"
            ],
            [
             0.4444444444444444,
             "#bd3786"
            ],
            [
             0.5555555555555556,
             "#d8576b"
            ],
            [
             0.6666666666666666,
             "#ed7953"
            ],
            [
             0.7777777777777778,
             "#fb9f3a"
            ],
            [
             0.8888888888888888,
             "#fdca26"
            ],
            [
             1,
             "#f0f921"
            ]
           ]
          },
          "colorway": [
           "#636efa",
           "#EF553B",
           "#00cc96",
           "#ab63fa",
           "#FFA15A",
           "#19d3f3",
           "#FF6692",
           "#B6E880",
           "#FF97FF",
           "#FECB52"
          ],
          "font": {
           "color": "#f2f5fa"
          },
          "geo": {
           "bgcolor": "rgb(17,17,17)",
           "lakecolor": "rgb(17,17,17)",
           "landcolor": "rgb(17,17,17)",
           "showlakes": true,
           "showland": true,
           "subunitcolor": "#506784"
          },
          "hoverlabel": {
           "align": "left"
          },
          "hovermode": "closest",
          "mapbox": {
           "style": "dark"
          },
          "paper_bgcolor": "rgb(17,17,17)",
          "plot_bgcolor": "rgb(17,17,17)",
          "polar": {
           "angularaxis": {
            "gridcolor": "#506784",
            "linecolor": "#506784",
            "ticks": ""
           },
           "bgcolor": "rgb(17,17,17)",
           "radialaxis": {
            "gridcolor": "#506784",
            "linecolor": "#506784",
            "ticks": ""
           }
          },
          "scene": {
           "xaxis": {
            "backgroundcolor": "rgb(17,17,17)",
            "gridcolor": "#506784",
            "gridwidth": 2,
            "linecolor": "#506784",
            "showbackground": true,
            "ticks": "",
            "zerolinecolor": "#C8D4E3"
           },
           "yaxis": {
            "backgroundcolor": "rgb(17,17,17)",
            "gridcolor": "#506784",
            "gridwidth": 2,
            "linecolor": "#506784",
            "showbackground": true,
            "ticks": "",
            "zerolinecolor": "#C8D4E3"
           },
           "zaxis": {
            "backgroundcolor": "rgb(17,17,17)",
            "gridcolor": "#506784",
            "gridwidth": 2,
            "linecolor": "#506784",
            "showbackground": true,
            "ticks": "",
            "zerolinecolor": "#C8D4E3"
           }
          },
          "shapedefaults": {
           "line": {
            "color": "#f2f5fa"
           }
          },
          "sliderdefaults": {
           "bgcolor": "#C8D4E3",
           "bordercolor": "rgb(17,17,17)",
           "borderwidth": 1,
           "tickwidth": 0
          },
          "ternary": {
           "aaxis": {
            "gridcolor": "#506784",
            "linecolor": "#506784",
            "ticks": ""
           },
           "baxis": {
            "gridcolor": "#506784",
            "linecolor": "#506784",
            "ticks": ""
           },
           "bgcolor": "rgb(17,17,17)",
           "caxis": {
            "gridcolor": "#506784",
            "linecolor": "#506784",
            "ticks": ""
           }
          },
          "title": {
           "x": 0.05
          },
          "updatemenudefaults": {
           "bgcolor": "#506784",
           "borderwidth": 0
          },
          "xaxis": {
           "automargin": true,
           "gridcolor": "#283442",
           "linecolor": "#506784",
           "ticks": "",
           "title": {
            "standoff": 15
           },
           "zerolinecolor": "#283442",
           "zerolinewidth": 2
          },
          "yaxis": {
           "automargin": true,
           "gridcolor": "#283442",
           "linecolor": "#506784",
           "ticks": "",
           "title": {
            "standoff": 15
           },
           "zerolinecolor": "#283442",
           "zerolinewidth": 2
          }
         }
        },
        "title": {
         "text": "Pick up hour=2022-10-15 00:00:00, location_id=22"
        },
        "xaxis": {
         "anchor": "y",
         "domain": [
          0,
          1
         ],
         "title": {
          "text": "x"
         }
        },
        "yaxis": {
         "anchor": "x",
         "domain": [
          0,
          1
         ],
         "title": {
          "text": "y"
         }
        }
       }
      }
     },
     "metadata": {},
     "output_type": "display_data"
    }
   ],
   "source": [
    "plot_one_sample(\n",
    "    features=X_test,\n",
    "    targets=y_test,\n",
    "    example_id=3979,\n",
    "    predictions=pd.Series(predictions)\n",
    ")"
   ]
  }
 ],
 "metadata": {
  "kernelspec": {
   "display_name": ".venv",
   "language": "python",
   "name": "python3"
  },
  "language_info": {
   "codemirror_mode": {
    "name": "ipython",
    "version": 3
   },
   "file_extension": ".py",
   "mimetype": "text/x-python",
   "name": "python",
   "nbconvert_exporter": "python",
   "pygments_lexer": "ipython3",
   "version": "3.9.0"
  },
  "orig_nbformat": 4,
  "vscode": {
   "interpreter": {
    "hash": "510f1861e2d8298e6ecc8144fb5afd31fa4df14ed5492ef520e996023a4ecdc6"
   }
  }
 },
 "nbformat": 4,
 "nbformat_minor": 2
}
